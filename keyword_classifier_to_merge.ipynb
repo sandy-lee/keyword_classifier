{
 "cells": [
  {
   "cell_type": "markdown",
   "metadata": {},
   "source": [
    "# Keyword Classification"
   ]
  },
  {
   "cell_type": "markdown",
   "metadata": {},
   "source": [
    "## Import Librarys "
   ]
  },
  {
   "cell_type": "code",
   "execution_count": 342,
   "metadata": {},
   "outputs": [],
   "source": [
    "import pandas as pd\n",
    "import numpy as np\n",
    "import matplotlib.pyplot as plt\n",
    "from sklearn.feature_extraction.text import CountVectorizer\n",
    "from sklearn.utils import resample\n",
    "from sklearn.feature_extraction.text import TfidfVectorizer\n",
    "from sklearn.feature_selection import SelectKBest\n",
    "from sklearn.feature_selection import f_classif\n",
    "from sklearn.model_selection import train_test_split"
   ]
  },
  {
   "cell_type": "markdown",
   "metadata": {},
   "source": [
    "## Import Data"
   ]
  },
  {
   "cell_type": "code",
   "execution_count": 366,
   "metadata": {},
   "outputs": [],
   "source": [
    "keywords = pd.read_csv('keywords_categories.csv', encoding = \"ISO-8859-1\")\n",
    "\n",
    "#https://stackoverflow.com/questions/18171739/unicodedecodeerror-when-reading-csv-file-in-pandas-with-python"
   ]
  },
  {
   "cell_type": "markdown",
   "metadata": {},
   "source": [
    "## EDA"
   ]
  },
  {
   "cell_type": "markdown",
   "metadata": {},
   "source": [
    "https://github.com/google/eng-edu/blob/main/ml/guides/text_classification/explore_data.py"
   ]
  },
  {
   "cell_type": "markdown",
   "metadata": {},
   "source": [
    "Number of samples"
   ]
  },
  {
   "cell_type": "code",
   "execution_count": 344,
   "metadata": {},
   "outputs": [
    {
     "name": "stdout",
     "output_type": "stream",
     "text": [
      "Total number of samples = 10084 keywords\n"
     ]
    }
   ],
   "source": [
    "print(f'Total number of samples = {len(keywords)} keywords')"
   ]
  },
  {
   "cell_type": "markdown",
   "metadata": {},
   "source": [
    "Number of keywords per class"
   ]
  },
  {
   "cell_type": "code",
   "execution_count": 345,
   "metadata": {},
   "outputs": [],
   "source": [
    "classes = keywords.pivot_table('keyword', index = 'category', aggfunc='count').sort_values(by='keyword', ascending=False)"
   ]
  },
  {
   "cell_type": "code",
   "execution_count": 346,
   "metadata": {},
   "outputs": [
    {
     "data": {
      "text/html": [
       "<div>\n",
       "<style scoped>\n",
       "    .dataframe tbody tr th:only-of-type {\n",
       "        vertical-align: middle;\n",
       "    }\n",
       "\n",
       "    .dataframe tbody tr th {\n",
       "        vertical-align: top;\n",
       "    }\n",
       "\n",
       "    .dataframe thead th {\n",
       "        text-align: right;\n",
       "    }\n",
       "</style>\n",
       "<table border=\"1\" class=\"dataframe\">\n",
       "  <thead>\n",
       "    <tr style=\"text-align: right;\">\n",
       "      <th></th>\n",
       "      <th>keyword</th>\n",
       "    </tr>\n",
       "    <tr>\n",
       "      <th>category</th>\n",
       "      <th></th>\n",
       "    </tr>\n",
       "  </thead>\n",
       "  <tbody>\n",
       "    <tr>\n",
       "      <th>monotype</th>\n",
       "      <td>2188</td>\n",
       "    </tr>\n",
       "    <tr>\n",
       "      <th>font technology</th>\n",
       "      <td>1740</td>\n",
       "    </tr>\n",
       "    <tr>\n",
       "      <th>fonts by vertical</th>\n",
       "      <td>936</td>\n",
       "    </tr>\n",
       "    <tr>\n",
       "      <th>font</th>\n",
       "      <td>813</td>\n",
       "    </tr>\n",
       "    <tr>\n",
       "      <th>html5</th>\n",
       "      <td>703</td>\n",
       "    </tr>\n",
       "    <tr>\n",
       "      <th>digital advertising</th>\n",
       "      <td>586</td>\n",
       "    </tr>\n",
       "    <tr>\n",
       "      <th>emoji</th>\n",
       "      <td>547</td>\n",
       "    </tr>\n",
       "    <tr>\n",
       "      <th>font type</th>\n",
       "      <td>488</td>\n",
       "    </tr>\n",
       "    <tr>\n",
       "      <th>mobile advertising</th>\n",
       "      <td>457</td>\n",
       "    </tr>\n",
       "    <tr>\n",
       "      <th>fonts for</th>\n",
       "      <td>428</td>\n",
       "    </tr>\n",
       "    <tr>\n",
       "      <th>sticker packs</th>\n",
       "      <td>281</td>\n",
       "    </tr>\n",
       "    <tr>\n",
       "      <th>fontshop</th>\n",
       "      <td>166</td>\n",
       "    </tr>\n",
       "    <tr>\n",
       "      <th>misc</th>\n",
       "      <td>142</td>\n",
       "    </tr>\n",
       "    <tr>\n",
       "      <th>flash alternatives</th>\n",
       "      <td>138</td>\n",
       "    </tr>\n",
       "    <tr>\n",
       "      <th>brand emoji</th>\n",
       "      <td>119</td>\n",
       "    </tr>\n",
       "    <tr>\n",
       "      <th>font style</th>\n",
       "      <td>112</td>\n",
       "    </tr>\n",
       "    <tr>\n",
       "      <th>linotype</th>\n",
       "      <td>81</td>\n",
       "    </tr>\n",
       "    <tr>\n",
       "      <th>expertise</th>\n",
       "      <td>62</td>\n",
       "    </tr>\n",
       "    <tr>\n",
       "      <th>people</th>\n",
       "      <td>32</td>\n",
       "    </tr>\n",
       "    <tr>\n",
       "      <th>swyft</th>\n",
       "      <td>23</td>\n",
       "    </tr>\n",
       "    <tr>\n",
       "      <th>fontfont</th>\n",
       "      <td>19</td>\n",
       "    </tr>\n",
       "    <tr>\n",
       "      <th>ITC</th>\n",
       "      <td>15</td>\n",
       "    </tr>\n",
       "    <tr>\n",
       "      <th>bitstream</th>\n",
       "      <td>4</td>\n",
       "    </tr>\n",
       "    <tr>\n",
       "      <th>ascender</th>\n",
       "      <td>3</td>\n",
       "    </tr>\n",
       "    <tr>\n",
       "      <th>mobile sticker</th>\n",
       "      <td>1</td>\n",
       "    </tr>\n",
       "  </tbody>\n",
       "</table>\n",
       "</div>"
      ],
      "text/plain": [
       "                     keyword\n",
       "category                    \n",
       "monotype                2188\n",
       "font technology         1740\n",
       "fonts by vertical        936\n",
       "font                     813\n",
       "html5                    703\n",
       "digital advertising      586\n",
       "emoji                    547\n",
       "font type                488\n",
       "mobile advertising       457\n",
       "fonts for                428\n",
       "sticker packs            281\n",
       "fontshop                 166\n",
       "misc                     142\n",
       "flash alternatives       138\n",
       "brand emoji              119\n",
       "font style               112\n",
       "linotype                  81\n",
       "expertise                 62\n",
       "people                    32\n",
       "swyft                     23\n",
       "fontfont                  19\n",
       "ITC                       15\n",
       "bitstream                  4\n",
       "ascender                   3\n",
       "mobile sticker             1"
      ]
     },
     "execution_count": 346,
     "metadata": {},
     "output_type": "execute_result"
    }
   ],
   "source": [
    "classes"
   ]
  },
  {
   "cell_type": "markdown",
   "metadata": {},
   "source": [
    "Number of words per sample"
   ]
  },
  {
   "cell_type": "code",
   "execution_count": 347,
   "metadata": {},
   "outputs": [],
   "source": [
    "num_words = [len(s.split()) for s in keywords.keyword]"
   ]
  },
  {
   "cell_type": "code",
   "execution_count": 348,
   "metadata": {},
   "outputs": [
    {
     "data": {
      "text/plain": [
       "3.0"
      ]
     },
     "execution_count": 348,
     "metadata": {},
     "output_type": "execute_result"
    }
   ],
   "source": [
    "np.median(num_words)"
   ]
  },
  {
   "cell_type": "markdown",
   "metadata": {},
   "source": [
    "Distribution of n-grams"
   ]
  },
  {
   "cell_type": "code",
   "execution_count": 349,
   "metadata": {},
   "outputs": [],
   "source": [
    "def plot_frequency_distribution_of_ngrams(sample_texts,\n",
    "                                          ngram_range=(1, 2),\n",
    "                                          num_ngrams=50):\n",
    "    \"\"\"Plots the frequency distribution of n-grams.\n",
    "    # Arguments\n",
    "        samples_texts: list, sample texts.\n",
    "        ngram_range: tuple (min, mplt), The range of n-gram values to consider.\n",
    "            Min and mplt are the lower and upper bound values for the range.\n",
    "        num_ngrams: int, number of n-grams to plot.\n",
    "            Top `num_ngrams` frequent n-grams will be plotted.\n",
    "    \"\"\"\n",
    "    # Create args required for vectorizing.\n",
    "    kwargs = {\n",
    "            'ngram_range': (1, 1),\n",
    "            'dtype': 'int32',\n",
    "            'strip_accents': 'unicode',\n",
    "            'decode_error': 'replace',\n",
    "            'analyzer': 'word',  # Split text into word tokens.\n",
    "    }\n",
    "    vectorizer = CountVectorizer(**kwargs)\n",
    "\n",
    "    # This creates a vocabulary (dict, where keys are n-grams and values are\n",
    "    # idxices). This also converts every text to an array the length of\n",
    "    # vocabulary, where every element idxicates the count of the n-gram\n",
    "    # corresponding at that idxex in vocabulary.\n",
    "    vectorized_texts = vectorizer.fit_transform(sample_texts)\n",
    "\n",
    "    # This is the list of all n-grams in the index order from the vocabulary.\n",
    "    all_ngrams = list(vectorizer.get_feature_names())\n",
    "    num_ngrams = min(num_ngrams, len(all_ngrams))\n",
    "    # ngrams = all_ngrams[:num_ngrams]\n",
    "\n",
    "    # Add up the counts per n-gram ie. column-wise\n",
    "    all_counts = vectorized_texts.sum(axis=0).tolist()[0]\n",
    "\n",
    "    # Sort n-grams and counts by frequency and get top `num_ngrams` ngrams.\n",
    "    all_counts, all_ngrams = zip(*[(c, n) for c, n in sorted(\n",
    "        zip(all_counts, all_ngrams), reverse=True)])\n",
    "    ngrams = list(all_ngrams)[:num_ngrams]\n",
    "    counts = list(all_counts)[:num_ngrams]\n",
    "\n",
    "    idx = np.arange(num_ngrams)\n",
    "    plt.figure(figsize=[30,5])\n",
    "    plt.bar(idx, counts, width=0.8, color='b')\n",
    "    plt.xlabel('N-grams')\n",
    "    plt.ylabel('Frequencies')\n",
    "    plt.title('Frequency distribution of n-grams')\n",
    "    plt.xticks(idx, ngrams, rotation=45)\n",
    "    plt.show()"
   ]
  },
  {
   "cell_type": "code",
   "execution_count": 350,
   "metadata": {},
   "outputs": [
    {
     "name": "stderr",
     "output_type": "stream",
     "text": [
      "/home/lee/.local/share/virtualenvs/keyword_classifier-6oEb6Vw0/lib/python3.8/site-packages/sklearn/utils/deprecation.py:87: FutureWarning: Function get_feature_names is deprecated; get_feature_names is deprecated in 1.0 and will be removed in 1.2. Please use get_feature_names_out instead.\n",
      "  warnings.warn(msg, category=FutureWarning)\n"
     ]
    },
    {
     "data": {
      "image/png": "[encoded data removed]",
      "text/plain": [
       "<Figure size 3000x500 with 1 Axes>"
      ]
     },
     "metadata": {},
     "output_type": "display_data"
    }
   ],
   "source": [
    "plot_frequency_distribution_of_ngrams(keywords.keyword)"
   ]
  },
  {
   "cell_type": "markdown",
   "metadata": {},
   "source": [
    "Sample Length Distribution"
   ]
  },
  {
   "cell_type": "code",
   "execution_count": 304,
   "metadata": {},
   "outputs": [],
   "source": [
    "def plot_sample_length_distribution(sample_texts):\n",
    "    \"\"\"Plots the sample length distribution.\n",
    "    # Arguments\n",
    "        samples_texts: list, sample texts.\n",
    "    \"\"\"\n",
    "    plt.figure(figsize=[10,5])\n",
    "    plt.hist([len(s) for s in sample_texts], 50)\n",
    "    plt.xlabel('Length of a sample (chars)')\n",
    "    plt.ylabel('Number of samples')\n",
    "    plt.title('Sample length distribution')\n",
    "    plt.show()"
   ]
  },
  {
   "cell_type": "code",
   "execution_count": 305,
   "metadata": {},
   "outputs": [
    {
     "data": {
      "image/png": "[encoded data removed]",
      "text/plain": [
       "<Figure size 1000x500 with 1 Axes>"
      ]
     },
     "metadata": {},
     "output_type": "display_data"
    }
   ],
   "source": [
    "plot_sample_length_distribution(keywords.keyword)"
   ]
  },
  {
   "cell_type": "markdown",
   "metadata": {},
   "source": [
    "Class Distribution"
   ]
  },
  {
   "cell_type": "code",
   "execution_count": 306,
   "metadata": {},
   "outputs": [
    {
     "data": {
      "text/plain": [
       "<AxesSubplot:xlabel='category'>"
      ]
     },
     "execution_count": 306,
     "metadata": {},
     "output_type": "execute_result"
    },
    {
     "data": {
      "image/png": "[encoded data removed]",
      "text/plain": [
       "<Figure size 640x480 with 1 Axes>"
      ]
     },
     "metadata": {},
     "output_type": "display_data"
    }
   ],
   "source": [
    "classes.plot.bar()"
   ]
  },
  {
   "cell_type": "code",
   "execution_count": 307,
   "metadata": {},
   "outputs": [],
   "source": [
    "#TODO:Need to think about rewriting these exploratory scripts into something more succinct."
   ]
  },
  {
   "cell_type": "markdown",
   "metadata": {},
   "source": [
    "## Data Leakage"
   ]
  },
  {
   "cell_type": "code",
   "execution_count": 367,
   "metadata": {},
   "outputs": [],
   "source": [
    "data_leakage = [row for row in zip(keywords.keyword,keywords.category) if row[0] == row[1]]\n",
    "data_leakage_df = pd.DataFrame(columns = ['keyword', 'category'], data=data_leakage)"
   ]
  },
  {
   "cell_type": "code",
   "execution_count": 368,
   "metadata": {},
   "outputs": [],
   "source": [
    "keywords = keywords[~(keywords.keyword + keywords.category).isin(data_leakage_df.keyword + data_leakage_df.category)]"
   ]
  },
  {
   "cell_type": "markdown",
   "metadata": {},
   "source": [
    "## Class Imbalance"
   ]
  },
  {
   "cell_type": "markdown",
   "metadata": {},
   "source": [
    "https://elitedatascience.com/imbalanced-classes"
   ]
  },
  {
   "cell_type": "code",
   "execution_count": 369,
   "metadata": {},
   "outputs": [
    {
     "data": {
      "text/html": [
       "<div>\n",
       "<style scoped>\n",
       "    .dataframe tbody tr th:only-of-type {\n",
       "        vertical-align: middle;\n",
       "    }\n",
       "\n",
       "    .dataframe tbody tr th {\n",
       "        vertical-align: top;\n",
       "    }\n",
       "\n",
       "    .dataframe thead th {\n",
       "        text-align: right;\n",
       "    }\n",
       "</style>\n",
       "<table border=\"1\" class=\"dataframe\">\n",
       "  <thead>\n",
       "    <tr style=\"text-align: right;\">\n",
       "      <th></th>\n",
       "      <th>keyword</th>\n",
       "      <th>category</th>\n",
       "    </tr>\n",
       "  </thead>\n",
       "  <tbody>\n",
       "    <tr>\n",
       "      <th>0</th>\n",
       "      <td>writing fonts</td>\n",
       "      <td>font type</td>\n",
       "    </tr>\n",
       "    <tr>\n",
       "      <th>1</th>\n",
       "      <td>word fonts</td>\n",
       "      <td>font type</td>\n",
       "    </tr>\n",
       "    <tr>\n",
       "      <th>2</th>\n",
       "      <td>windows fonts</td>\n",
       "      <td>font type</td>\n",
       "    </tr>\n",
       "    <tr>\n",
       "      <th>3</th>\n",
       "      <td>wedding fonts</td>\n",
       "      <td>font type</td>\n",
       "    </tr>\n",
       "    <tr>\n",
       "      <th>4</th>\n",
       "      <td>wedding font</td>\n",
       "      <td>font type</td>\n",
       "    </tr>\n",
       "    <tr>\n",
       "      <th>...</th>\n",
       "      <td>...</td>\n",
       "      <td>...</td>\n",
       "    </tr>\n",
       "    <tr>\n",
       "      <th>10057</th>\n",
       "      <td>sticker pack yamaha bws 125</td>\n",
       "      <td>sticker packs</td>\n",
       "    </tr>\n",
       "    <tr>\n",
       "      <th>10058</th>\n",
       "      <td>sticker pack.zip</td>\n",
       "      <td>sticker packs</td>\n",
       "    </tr>\n",
       "    <tr>\n",
       "      <th>10059</th>\n",
       "      <td>obey sticker pack zumiez</td>\n",
       "      <td>sticker packs</td>\n",
       "    </tr>\n",
       "    <tr>\n",
       "      <th>10060</th>\n",
       "      <td>barbie stickerzine packs</td>\n",
       "      <td>sticker packs</td>\n",
       "    </tr>\n",
       "    <tr>\n",
       "      <th>10061</th>\n",
       "      <td>zumiez sticker packs</td>\n",
       "      <td>sticker packs</td>\n",
       "    </tr>\n",
       "  </tbody>\n",
       "</table>\n",
       "<p>10049 rows × 2 columns</p>\n",
       "</div>"
      ],
      "text/plain": [
       "                           keyword       category\n",
       "0                    writing fonts      font type\n",
       "1                       word fonts      font type\n",
       "2                    windows fonts      font type\n",
       "3                    wedding fonts      font type\n",
       "4                     wedding font      font type\n",
       "...                            ...            ...\n",
       "10057  sticker pack yamaha bws 125  sticker packs\n",
       "10058             sticker pack.zip  sticker packs\n",
       "10059     obey sticker pack zumiez  sticker packs\n",
       "10060     barbie stickerzine packs  sticker packs\n",
       "10061         zumiez sticker packs  sticker packs\n",
       "\n",
       "[10049 rows x 2 columns]"
      ]
     },
     "execution_count": 369,
     "metadata": {},
     "output_type": "execute_result"
    }
   ],
   "source": [
    "keywords"
   ]
  },
  {
   "cell_type": "code",
   "execution_count": 370,
   "metadata": {},
   "outputs": [
    {
     "data": {
      "text/plain": [
       "monotype               2185\n",
       "font technology        1739\n",
       "fonts by vertical       936\n",
       "font                    813\n",
       "html5                   702\n",
       "digital advertising     585\n",
       "emoji                   546\n",
       "font type               488\n",
       "mobile advertising      456\n",
       "fonts for               428\n",
       "sticker packs           280\n",
       "fontshop                165\n",
       "misc                    142\n",
       "brand emoji             118\n",
       "flash alternatives      115\n",
       "font style              112\n",
       "linotype                 81\n",
       "expertise                62\n",
       "people                   32\n",
       "swyft                    23\n",
       "fontfont                 18\n",
       "ITC                      15\n",
       "bitstream                 4\n",
       "ascender                  3\n",
       "mobile sticker            1\n",
       "Name: category, dtype: int64"
      ]
     },
     "execution_count": 370,
     "metadata": {},
     "output_type": "execute_result"
    }
   ],
   "source": [
    "item_counts = keywords.category.value_counts()\n",
    "item_counts"
   ]
  },
  {
   "cell_type": "markdown",
   "metadata": {},
   "source": [
    "### Rolling any class less < 100 into misc. "
   ]
  },
  {
   "cell_type": "code",
   "execution_count": 371,
   "metadata": {},
   "outputs": [],
   "source": [
    "for index,item in enumerate(keywords.category):\n",
    "    if item_counts.loc[item]<100:\n",
    "        keywords.category.iloc[index]='misc'"
   ]
  },
  {
   "cell_type": "code",
   "execution_count": 372,
   "metadata": {},
   "outputs": [
    {
     "data": {
      "text/plain": [
       "monotype               2185\n",
       "font technology        1739\n",
       "fonts by vertical       936\n",
       "font                    813\n",
       "html5                   702\n",
       "digital advertising     585\n",
       "emoji                   546\n",
       "font type               488\n",
       "mobile advertising      456\n",
       "fonts for               428\n",
       "misc                    381\n",
       "sticker packs           280\n",
       "fontshop                165\n",
       "brand emoji             118\n",
       "flash alternatives      115\n",
       "font style              112\n",
       "Name: category, dtype: int64"
      ]
     },
     "execution_count": 372,
     "metadata": {},
     "output_type": "execute_result"
    }
   ],
   "source": [
    "item_counts = keywords.category.value_counts()\n",
    "item_counts"
   ]
  },
  {
   "cell_type": "markdown",
   "metadata": {},
   "source": [
    "Up sample Minorty Classes"
   ]
  },
  {
   "cell_type": "code",
   "execution_count": 373,
   "metadata": {},
   "outputs": [],
   "source": [
    "def upsample(class_list, dataframe):\n",
    "    frames = {}\n",
    "    frames_upsampled = {}\n",
    "    for index,item in enumerate(class_list):\n",
    "        frames[item]= dataframe[dataframe.category == class_list[index]]\n",
    "    for index,item in enumerate(class_list):\n",
    "        frames_upsampled[item] = resample(frames[item], replace=True, \n",
    "        n_samples = 2185, random_state = 42)\n",
    "    upsampled_df = pd.concat(frames_upsampled.values(), ignore_index=True)\n",
    "    return upsampled_df\n",
    "    "
   ]
  },
  {
   "cell_type": "code",
   "execution_count": 374,
   "metadata": {},
   "outputs": [],
   "source": [
    "upsampled = upsample(item_counts.index.tolist(), keywords)"
   ]
  },
  {
   "cell_type": "markdown",
   "metadata": {},
   "source": [
    "Down sample majority classes"
   ]
  },
  {
   "cell_type": "code",
   "execution_count": 375,
   "metadata": {},
   "outputs": [],
   "source": [
    "def downsample(class_list, dataframe):\n",
    "    frames = {}\n",
    "    frames_downsampled = {}\n",
    "    for index,item in enumerate(class_list):\n",
    "        frames[item]= dataframe[dataframe.category == class_list[index]]\n",
    "    for index,item in enumerate(class_list):\n",
    "        frames_downsampled[item] = resample(frames[item], replace=True, \n",
    "        n_samples = 112, random_state = 42)\n",
    "    downsampled_df = pd.concat(frames_downsampled.values(), ignore_index=True)\n",
    "    return downsampled_df"
   ]
  },
  {
   "cell_type": "code",
   "execution_count": 376,
   "metadata": {},
   "outputs": [],
   "source": [
    "frames = downsample(item_counts.index.tolist(), keywords)"
   ]
  },
  {
   "cell_type": "code",
   "execution_count": 377,
   "metadata": {},
   "outputs": [],
   "source": [
    "def sample(upsample = False, class_list = None, dataframe = None):\n",
    "    frames = {}\n",
    "    frames_sampled = {}\n",
    "    if upsample:\n",
    "        for index,item in enumerate(class_list):\n",
    "            frames[item]= dataframe[dataframe.category == class_list[index]]\n",
    "        for index,item in enumerate(class_list):\n",
    "            frames_sampled[item] = resample(frames[item], \n",
    "            replace=True, n_samples = XXX, random_state = 42)\n",
    "        sampled_df = pd.concat(frames_sampled.values(), ignore_index=True)\n",
    "    else:\n",
    "        for index,item in enumerate(class_list):\n",
    "            frames[item]= dataframe[dataframe.category == class_list[index]]\n",
    "        for index,item in enumerate(class_list):\n",
    "            frames_sampled[item] = resample(frames[item], replace=True,\n",
    "            n_samples = XXX, random_state = 42)\n",
    "        sampled_df = pd.concat(frames_sampled.values(), ignore_index=True)\n",
    "    return sampled_df"
   ]
  },
  {
   "cell_type": "code",
   "execution_count": 378,
   "metadata": {},
   "outputs": [],
   "source": [
    "#TODO:[] combine these functions into one - IN PROGRESS\n",
    "#TODO:[] add an ability to detect the sample size if upsampling or downsampling are required\n",
    "#TODO:[] compare distributions of sampled data compared to original data "
   ]
  },
  {
   "cell_type": "markdown",
   "metadata": {},
   "source": [
    "## Train, Test, Validation Split"
   ]
  },
  {
   "cell_type": "markdown",
   "metadata": {},
   "source": [
    "https://machinelearningmastery.com/difference-test-validation-datasets/"
   ]
  },
  {
   "cell_type": "code",
   "execution_count": 379,
   "metadata": {},
   "outputs": [],
   "source": [
    "X = upsampled.keyword\n",
    "y = upsampled.category\n",
    "X_train, X_remainder, y_train, y_remainder = train_test_split(X, y, test_size = 0.3, random_state = 42)\n",
    "X_test, X_val, y_test, y_val = train_test_split(X_remainder, y_remainder, test_size = 0.5, random_state = 42)"
   ]
  },
  {
   "cell_type": "code",
   "execution_count": 16,
   "metadata": {},
   "outputs": [
    {
     "data": {
      "text/plain": [
       "8356                       joanna nova\n",
       "10368              how html5 is better\n",
       "18123     mobile advertising on wheels\n",
       "23174                     online fonts\n",
       "4043             flipfont pack mobile9\n",
       "                     ...              \n",
       "16850    corporate communications font\n",
       "6265           font for clothing brand\n",
       "11284        digital advertising world\n",
       "860                 monotype font list\n",
       "15795                      design font\n",
       "Name: keyword, Length: 24472, dtype: object"
      ]
     },
     "execution_count": 16,
     "metadata": {},
     "output_type": "execute_result"
    }
   ],
   "source": [
    "X_train"
   ]
  },
  {
   "cell_type": "code",
   "execution_count": 17,
   "metadata": {},
   "outputs": [
    {
     "data": {
      "text/plain": [
       "8356                    font\n",
       "10368                  html5\n",
       "18123     mobile advertising\n",
       "23174                   misc\n",
       "4043         font technology\n",
       "                ...         \n",
       "16850              font type\n",
       "6265       fonts by vertical\n",
       "11284    digital advertising\n",
       "860                 monotype\n",
       "15795              font type\n",
       "Name: category, Length: 24472, dtype: object"
      ]
     },
     "execution_count": 17,
     "metadata": {},
     "output_type": "execute_result"
    }
   ],
   "source": [
    "y_train"
   ]
  },
  {
   "cell_type": "code",
   "execution_count": 18,
   "metadata": {},
   "outputs": [
    {
     "data": {
      "text/plain": [
       "8474                                       bank gothic\n",
       "14876                             emoji happy birthday\n",
       "12167                    digital advertising rate card\n",
       "26071    how to use sticker packs in plants vs zombies\n",
       "6676                                        unite font\n",
       "                             ...                      \n",
       "28574                        flash powder alternatives\n",
       "28210                                   font shop free\n",
       "13332                                emoji throwing up\n",
       "29979                 adobe flash builder alternatives\n",
       "21415                              fonts for windows 8\n",
       "Name: keyword, Length: 5244, dtype: object"
      ]
     },
     "execution_count": 18,
     "metadata": {},
     "output_type": "execute_result"
    }
   ],
   "source": [
    "X_test"
   ]
  },
  {
   "cell_type": "code",
   "execution_count": 19,
   "metadata": {},
   "outputs": [
    {
     "data": {
      "text/plain": [
       "8474                    font\n",
       "14876                  emoji\n",
       "12167    digital advertising\n",
       "26071          sticker packs\n",
       "6676                    font\n",
       "                ...         \n",
       "28574     flash alternatives\n",
       "28210               fontshop\n",
       "13332                  emoji\n",
       "29979     flash alternatives\n",
       "21415              fonts for\n",
       "Name: category, Length: 5244, dtype: object"
      ]
     },
     "execution_count": 19,
     "metadata": {},
     "output_type": "execute_result"
    }
   ],
   "source": [
    "y_test"
   ]
  },
  {
   "cell_type": "code",
   "execution_count": 20,
   "metadata": {},
   "outputs": [
    {
     "data": {
      "text/plain": [
       "28549      ubuntu flash alternative to adobe\n",
       "12073          digital advertising buzzwords\n",
       "34439                       historical fonts\n",
       "16533              custom font design online\n",
       "15789                  corporate font family\n",
       "                        ...                 \n",
       "1444                         monotype en art\n",
       "31519                  emoji brand main game\n",
       "25689                animal sticker pack bmx\n",
       "13244                           emoji x eyes\n",
       "17705    mobile advertising public companies\n",
       "Name: keyword, Length: 5244, dtype: object"
      ]
     },
     "execution_count": 20,
     "metadata": {},
     "output_type": "execute_result"
    }
   ],
   "source": [
    "X_val"
   ]
  },
  {
   "cell_type": "code",
   "execution_count": 21,
   "metadata": {},
   "outputs": [
    {
     "data": {
      "text/plain": [
       "28549     flash alternatives\n",
       "12073    digital advertising\n",
       "34439             font style\n",
       "16533              font type\n",
       "15789              font type\n",
       "                ...         \n",
       "1444                monotype\n",
       "31519            brand emoji\n",
       "25689          sticker packs\n",
       "13244                  emoji\n",
       "17705     mobile advertising\n",
       "Name: category, Length: 5244, dtype: object"
      ]
     },
     "execution_count": 21,
     "metadata": {},
     "output_type": "execute_result"
    }
   ],
   "source": [
    "y_val"
   ]
  },
  {
   "cell_type": "markdown",
   "metadata": {},
   "source": [
    "## Data Preparation"
   ]
  },
  {
   "cell_type": "code",
   "execution_count": 22,
   "metadata": {},
   "outputs": [],
   "source": [
    "vectorizer = TfidfVectorizer(ngram_range=(1,2), dtype= 'int32', strip_accents= 'unicode', decode_error='replace', analyzer= 'word', min_df= 2)"
   ]
  },
  {
   "cell_type": "code",
   "execution_count": 23,
   "metadata": {},
   "outputs": [
    {
     "name": "stderr",
     "output_type": "stream",
     "text": [
      "/home/lee/.local/share/virtualenvs/keyword_classifier-6oEb6Vw0/lib/python3.8/site-packages/sklearn/feature_extraction/text.py:2019: UserWarning: Only (<class 'numpy.float64'>, <class 'numpy.float32'>, <class 'numpy.float16'>) 'dtype' should be used. int32 'dtype' will be converted to np.float64.\n",
      "  warnings.warn(\n"
     ]
    }
   ],
   "source": [
    "x_train = vectorizer.fit_transform(X_train)"
   ]
  },
  {
   "cell_type": "code",
   "execution_count": 24,
   "metadata": {},
   "outputs": [],
   "source": [
    "x_test = vectorizer.transform(X_test)"
   ]
  },
  {
   "cell_type": "code",
   "execution_count": 25,
   "metadata": {},
   "outputs": [],
   "source": [
    "selector = SelectKBest(f_classif, k=min(20000, x_train.shape[1]))"
   ]
  },
  {
   "cell_type": "code",
   "execution_count": 26,
   "metadata": {},
   "outputs": [
    {
     "data": {
      "text/html": [
       "<style>#sk-container-id-1 {color: black;background-color: white;}#sk-container-id-1 pre{padding: 0;}#sk-container-id-1 div.sk-toggleable {background-color: white;}#sk-container-id-1 label.sk-toggleable__label {cursor: pointer;display: block;width: 100%;margin-bottom: 0;padding: 0.3em;box-sizing: border-box;text-align: center;}#sk-container-id-1 label.sk-toggleable__label-arrow:before {content: \"▸\";float: left;margin-right: 0.25em;color: #696969;}#sk-container-id-1 label.sk-toggleable__label-arrow:hover:before {color: black;}#sk-container-id-1 div.sk-estimator:hover label.sk-toggleable__label-arrow:before {color: black;}#sk-container-id-1 div.sk-toggleable__content {max-height: 0;max-width: 0;overflow: hidden;text-align: left;background-color: #f0f8ff;}#sk-container-id-1 div.sk-toggleable__content pre {margin: 0.2em;color: black;border-radius: 0.25em;background-color: #f0f8ff;}#sk-container-id-1 input.sk-toggleable__control:checked~div.sk-toggleable__content {max-height: 200px;max-width: 100%;overflow: auto;}#sk-container-id-1 input.sk-toggleable__control:checked~label.sk-toggleable__label-arrow:before {content: \"▾\";}#sk-container-id-1 div.sk-estimator input.sk-toggleable__control:checked~label.sk-toggleable__label {background-color: #d4ebff;}#sk-container-id-1 div.sk-label input.sk-toggleable__control:checked~label.sk-toggleable__label {background-color: #d4ebff;}#sk-container-id-1 input.sk-hidden--visually {border: 0;clip: rect(1px 1px 1px 1px);clip: rect(1px, 1px, 1px, 1px);height: 1px;margin: -1px;overflow: hidden;padding: 0;position: absolute;width: 1px;}#sk-container-id-1 div.sk-estimator {font-family: monospace;background-color: #f0f8ff;border: 1px dotted black;border-radius: 0.25em;box-sizing: border-box;margin-bottom: 0.5em;}#sk-container-id-1 div.sk-estimator:hover {background-color: #d4ebff;}#sk-container-id-1 div.sk-parallel-item::after {content: \"\";width: 100%;border-bottom: 1px solid gray;flex-grow: 1;}#sk-container-id-1 div.sk-label:hover label.sk-toggleable__label {background-color: #d4ebff;}#sk-container-id-1 div.sk-serial::before {content: \"\";position: absolute;border-left: 1px solid gray;box-sizing: border-box;top: 0;bottom: 0;left: 50%;z-index: 0;}#sk-container-id-1 div.sk-serial {display: flex;flex-direction: column;align-items: center;background-color: white;padding-right: 0.2em;padding-left: 0.2em;position: relative;}#sk-container-id-1 div.sk-item {position: relative;z-index: 1;}#sk-container-id-1 div.sk-parallel {display: flex;align-items: stretch;justify-content: center;background-color: white;position: relative;}#sk-container-id-1 div.sk-item::before, #sk-container-id-1 div.sk-parallel-item::before {content: \"\";position: absolute;border-left: 1px solid gray;box-sizing: border-box;top: 0;bottom: 0;left: 50%;z-index: -1;}#sk-container-id-1 div.sk-parallel-item {display: flex;flex-direction: column;z-index: 1;position: relative;background-color: white;}#sk-container-id-1 div.sk-parallel-item:first-child::after {align-self: flex-end;width: 50%;}#sk-container-id-1 div.sk-parallel-item:last-child::after {align-self: flex-start;width: 50%;}#sk-container-id-1 div.sk-parallel-item:only-child::after {width: 0;}#sk-container-id-1 div.sk-dashed-wrapped {border: 1px dashed gray;margin: 0 0.4em 0.5em 0.4em;box-sizing: border-box;padding-bottom: 0.4em;background-color: white;}#sk-container-id-1 div.sk-label label {font-family: monospace;font-weight: bold;display: inline-block;line-height: 1.2em;}#sk-container-id-1 div.sk-label-container {text-align: center;}#sk-container-id-1 div.sk-container {/* jupyter's `normalize.less` sets `[hidden] { display: none; }` but bootstrap.min.css set `[hidden] { display: none !important; }` so we also need the `!important` here to be able to override the default hidden behavior on the sphinx rendered scikit-learn.org. See: https://github.com/scikit-learn/scikit-learn/issues/21755 */display: inline-block !important;position: relative;}#sk-container-id-1 div.sk-text-repr-fallback {display: none;}</style><div id=\"sk-container-id-1\" class=\"sk-top-container\"><div class=\"sk-text-repr-fallback\"><pre>SelectKBest(k=8518)</pre><b>In a Jupyter environment, please rerun this cell to show the HTML representation or trust the notebook. <br />On GitHub, the HTML representation is unable to render, please try loading this page with nbviewer.org.</b></div><div class=\"sk-container\" hidden><div class=\"sk-item\"><div class=\"sk-estimator sk-toggleable\"><input class=\"sk-toggleable__control sk-hidden--visually\" id=\"sk-estimator-id-1\" type=\"checkbox\" checked><label for=\"sk-estimator-id-1\" class=\"sk-toggleable__label sk-toggleable__label-arrow\">SelectKBest</label><div class=\"sk-toggleable__content\"><pre>SelectKBest(k=8518)</pre></div></div></div></div></div>"
      ],
      "text/plain": [
       "SelectKBest(k=8518)"
      ]
     },
     "execution_count": 26,
     "metadata": {},
     "output_type": "execute_result"
    }
   ],
   "source": [
    "selector.fit(x_train,y_train)"
   ]
  },
  {
   "cell_type": "code",
   "execution_count": 27,
   "metadata": {},
   "outputs": [],
   "source": [
    "x_train = selector.transform(x_train).astype('float32')\n",
    "x_test = selector.transform(x_test).astype('float32')"
   ]
  },
  {
   "cell_type": "code",
   "execution_count": 28,
   "metadata": {},
   "outputs": [
    {
     "data": {
      "text/plain": [
       "<24472x8518 sparse matrix of type '<class 'numpy.float32'>'\n",
       "\twith 132071 stored elements in Compressed Sparse Row format>"
      ]
     },
     "execution_count": 28,
     "metadata": {},
     "output_type": "execute_result"
    }
   ],
   "source": [
    "x_train"
   ]
  },
  {
   "cell_type": "code",
   "execution_count": 29,
   "metadata": {},
   "outputs": [
    {
     "data": {
      "text/plain": [
       "<5244x8518 sparse matrix of type '<class 'numpy.float32'>'\n",
       "\twith 27448 stored elements in Compressed Sparse Row format>"
      ]
     },
     "execution_count": 29,
     "metadata": {},
     "output_type": "execute_result"
    }
   ],
   "source": [
    "x_test"
   ]
  },
  {
   "cell_type": "markdown",
   "metadata": {},
   "source": [
    "## Using a Gradient Boosted Decision Tree as a Baseline"
   ]
  },
  {
   "cell_type": "code",
   "execution_count": 31,
   "metadata": {},
   "outputs": [],
   "source": [
    "from sklearn.ensemble import GradientBoostingClassifier"
   ]
  },
  {
   "cell_type": "code",
   "execution_count": 32,
   "metadata": {},
   "outputs": [],
   "source": [
    "clf = GradientBoostingClassifier(n_estimators=300, learning_rate=1.0, max_depth=30, random_state=42).fit(x_train, y_train)"
   ]
  },
  {
   "cell_type": "code",
   "execution_count": 364,
   "metadata": {},
   "outputs": [
    {
     "data": {
      "text/plain": [
       "0.9361174675819984"
      ]
     },
     "execution_count": 364,
     "metadata": {},
     "output_type": "execute_result"
    }
   ],
   "source": [
    "clf.score(x_test,y_test)"
   ]
  },
  {
   "cell_type": "code",
   "execution_count": 380,
   "metadata": {},
   "outputs": [
    {
     "ename": "ValueError",
     "evalue": "could not convert string to float: 'brand emoji cheats'",
     "output_type": "error",
     "traceback": [
      "\u001b[0;31m---------------------------------------------------------------------------\u001b[0m",
      "\u001b[0;31mValueError\u001b[0m                                Traceback (most recent call last)",
      "\u001b[1;32m/home/lee/github/keyword_classifier/keyword_classifier.ipynb Cell 65\u001b[0m in \u001b[0;36m<cell line: 1>\u001b[0;34m()\u001b[0m\n\u001b[0;32m----> <a href='vscode-notebook-cell://wsl%2Bubuntu-20.04/home/lee/github/keyword_classifier/keyword_classifier.ipynb#Y136sdnNjb2RlLXJlbW90ZQ%3D%3D?line=0'>1</a>\u001b[0m clf\u001b[39m.\u001b[39;49mscore(X_val,y_val)\n",
      "File \u001b[0;32m~/.local/share/virtualenvs/keyword_classifier-6oEb6Vw0/lib/python3.8/site-packages/sklearn/base.py:666\u001b[0m, in \u001b[0;36mClassifierMixin.score\u001b[0;34m(self, X, y, sample_weight)\u001b[0m\n\u001b[1;32m    641\u001b[0m \u001b[39m\"\"\"\u001b[39;00m\n\u001b[1;32m    642\u001b[0m \u001b[39mReturn the mean accuracy on the given test data and labels.\u001b[39;00m\n\u001b[1;32m    643\u001b[0m \n\u001b[0;32m   (...)\u001b[0m\n\u001b[1;32m    662\u001b[0m \u001b[39m    Mean accuracy of ``self.predict(X)`` wrt. `y`.\u001b[39;00m\n\u001b[1;32m    663\u001b[0m \u001b[39m\"\"\"\u001b[39;00m\n\u001b[1;32m    664\u001b[0m \u001b[39mfrom\u001b[39;00m \u001b[39m.\u001b[39;00m\u001b[39mmetrics\u001b[39;00m \u001b[39mimport\u001b[39;00m accuracy_score\n\u001b[0;32m--> 666\u001b[0m \u001b[39mreturn\u001b[39;00m accuracy_score(y, \u001b[39mself\u001b[39;49m\u001b[39m.\u001b[39;49mpredict(X), sample_weight\u001b[39m=\u001b[39msample_weight)\n",
      "File \u001b[0;32m~/.local/share/virtualenvs/keyword_classifier-6oEb6Vw0/lib/python3.8/site-packages/sklearn/ensemble/_gb.py:1452\u001b[0m, in \u001b[0;36mGradientBoostingClassifier.predict\u001b[0;34m(self, X)\u001b[0m\n\u001b[1;32m   1437\u001b[0m \u001b[39mdef\u001b[39;00m \u001b[39mpredict\u001b[39m(\u001b[39mself\u001b[39m, X):\n\u001b[1;32m   1438\u001b[0m     \u001b[39m\"\"\"Predict class for X.\u001b[39;00m\n\u001b[1;32m   1439\u001b[0m \n\u001b[1;32m   1440\u001b[0m \u001b[39m    Parameters\u001b[39;00m\n\u001b[0;32m   (...)\u001b[0m\n\u001b[1;32m   1450\u001b[0m \u001b[39m        The predicted values.\u001b[39;00m\n\u001b[1;32m   1451\u001b[0m \u001b[39m    \"\"\"\u001b[39;00m\n\u001b[0;32m-> 1452\u001b[0m     raw_predictions \u001b[39m=\u001b[39m \u001b[39mself\u001b[39;49m\u001b[39m.\u001b[39;49mdecision_function(X)\n\u001b[1;32m   1453\u001b[0m     encoded_labels \u001b[39m=\u001b[39m \u001b[39mself\u001b[39m\u001b[39m.\u001b[39m_loss\u001b[39m.\u001b[39m_raw_prediction_to_decision(raw_predictions)\n\u001b[1;32m   1454\u001b[0m     \u001b[39mreturn\u001b[39;00m \u001b[39mself\u001b[39m\u001b[39m.\u001b[39mclasses_\u001b[39m.\u001b[39mtake(encoded_labels, axis\u001b[39m=\u001b[39m\u001b[39m0\u001b[39m)\n",
      "File \u001b[0;32m~/.local/share/virtualenvs/keyword_classifier-6oEb6Vw0/lib/python3.8/site-packages/sklearn/ensemble/_gb.py:1405\u001b[0m, in \u001b[0;36mGradientBoostingClassifier.decision_function\u001b[0;34m(self, X)\u001b[0m\n\u001b[1;32m   1386\u001b[0m \u001b[39mdef\u001b[39;00m \u001b[39mdecision_function\u001b[39m(\u001b[39mself\u001b[39m, X):\n\u001b[1;32m   1387\u001b[0m     \u001b[39m\"\"\"Compute the decision function of ``X``.\u001b[39;00m\n\u001b[1;32m   1388\u001b[0m \n\u001b[1;32m   1389\u001b[0m \u001b[39m    Parameters\u001b[39;00m\n\u001b[0;32m   (...)\u001b[0m\n\u001b[1;32m   1403\u001b[0m \u001b[39m        array of shape (n_samples,).\u001b[39;00m\n\u001b[1;32m   1404\u001b[0m \u001b[39m    \"\"\"\u001b[39;00m\n\u001b[0;32m-> 1405\u001b[0m     X \u001b[39m=\u001b[39m \u001b[39mself\u001b[39;49m\u001b[39m.\u001b[39;49m_validate_data(\n\u001b[1;32m   1406\u001b[0m         X, dtype\u001b[39m=\u001b[39;49mDTYPE, order\u001b[39m=\u001b[39;49m\u001b[39m\"\u001b[39;49m\u001b[39mC\u001b[39;49m\u001b[39m\"\u001b[39;49m, accept_sparse\u001b[39m=\u001b[39;49m\u001b[39m\"\u001b[39;49m\u001b[39mcsr\u001b[39;49m\u001b[39m\"\u001b[39;49m, reset\u001b[39m=\u001b[39;49m\u001b[39mFalse\u001b[39;49;00m\n\u001b[1;32m   1407\u001b[0m     )\n\u001b[1;32m   1408\u001b[0m     raw_predictions \u001b[39m=\u001b[39m \u001b[39mself\u001b[39m\u001b[39m.\u001b[39m_raw_predict(X)\n\u001b[1;32m   1409\u001b[0m     \u001b[39mif\u001b[39;00m raw_predictions\u001b[39m.\u001b[39mshape[\u001b[39m1\u001b[39m] \u001b[39m==\u001b[39m \u001b[39m1\u001b[39m:\n",
      "File \u001b[0;32m~/.local/share/virtualenvs/keyword_classifier-6oEb6Vw0/lib/python3.8/site-packages/sklearn/base.py:577\u001b[0m, in \u001b[0;36mBaseEstimator._validate_data\u001b[0;34m(self, X, y, reset, validate_separately, **check_params)\u001b[0m\n\u001b[1;32m    575\u001b[0m     \u001b[39mraise\u001b[39;00m \u001b[39mValueError\u001b[39;00m(\u001b[39m\"\u001b[39m\u001b[39mValidation should be done on X, y or both.\u001b[39m\u001b[39m\"\u001b[39m)\n\u001b[1;32m    576\u001b[0m \u001b[39melif\u001b[39;00m \u001b[39mnot\u001b[39;00m no_val_X \u001b[39mand\u001b[39;00m no_val_y:\n\u001b[0;32m--> 577\u001b[0m     X \u001b[39m=\u001b[39m check_array(X, input_name\u001b[39m=\u001b[39;49m\u001b[39m\"\u001b[39;49m\u001b[39mX\u001b[39;49m\u001b[39m\"\u001b[39;49m, \u001b[39m*\u001b[39;49m\u001b[39m*\u001b[39;49mcheck_params)\n\u001b[1;32m    578\u001b[0m     out \u001b[39m=\u001b[39m X\n\u001b[1;32m    579\u001b[0m \u001b[39melif\u001b[39;00m no_val_X \u001b[39mand\u001b[39;00m \u001b[39mnot\u001b[39;00m no_val_y:\n",
      "File \u001b[0;32m~/.local/share/virtualenvs/keyword_classifier-6oEb6Vw0/lib/python3.8/site-packages/sklearn/utils/validation.py:856\u001b[0m, in \u001b[0;36mcheck_array\u001b[0;34m(array, accept_sparse, accept_large_sparse, dtype, order, copy, force_all_finite, ensure_2d, allow_nd, ensure_min_samples, ensure_min_features, estimator, input_name)\u001b[0m\n\u001b[1;32m    854\u001b[0m         array \u001b[39m=\u001b[39m array\u001b[39m.\u001b[39mastype(dtype, casting\u001b[39m=\u001b[39m\u001b[39m\"\u001b[39m\u001b[39munsafe\u001b[39m\u001b[39m\"\u001b[39m, copy\u001b[39m=\u001b[39m\u001b[39mFalse\u001b[39;00m)\n\u001b[1;32m    855\u001b[0m     \u001b[39melse\u001b[39;00m:\n\u001b[0;32m--> 856\u001b[0m         array \u001b[39m=\u001b[39m np\u001b[39m.\u001b[39;49masarray(array, order\u001b[39m=\u001b[39;49morder, dtype\u001b[39m=\u001b[39;49mdtype)\n\u001b[1;32m    857\u001b[0m \u001b[39mexcept\u001b[39;00m ComplexWarning \u001b[39mas\u001b[39;00m complex_warning:\n\u001b[1;32m    858\u001b[0m     \u001b[39mraise\u001b[39;00m \u001b[39mValueError\u001b[39;00m(\n\u001b[1;32m    859\u001b[0m         \u001b[39m\"\u001b[39m\u001b[39mComplex data not supported\u001b[39m\u001b[39m\\n\u001b[39;00m\u001b[39m{}\u001b[39;00m\u001b[39m\\n\u001b[39;00m\u001b[39m\"\u001b[39m\u001b[39m.\u001b[39mformat(array)\n\u001b[1;32m    860\u001b[0m     ) \u001b[39mfrom\u001b[39;00m \u001b[39mcomplex_warning\u001b[39;00m\n",
      "File \u001b[0;32m~/.local/share/virtualenvs/keyword_classifier-6oEb6Vw0/lib/python3.8/site-packages/pandas/core/series.py:872\u001b[0m, in \u001b[0;36mSeries.__array__\u001b[0;34m(self, dtype)\u001b[0m\n\u001b[1;32m    825\u001b[0m \u001b[39mdef\u001b[39;00m \u001b[39m__array__\u001b[39m(\u001b[39mself\u001b[39m, dtype: npt\u001b[39m.\u001b[39mDTypeLike \u001b[39m|\u001b[39m \u001b[39mNone\u001b[39;00m \u001b[39m=\u001b[39m \u001b[39mNone\u001b[39;00m) \u001b[39m-\u001b[39m\u001b[39m>\u001b[39m np\u001b[39m.\u001b[39mndarray:\n\u001b[1;32m    826\u001b[0m     \u001b[39m\"\"\"\u001b[39;00m\n\u001b[1;32m    827\u001b[0m \u001b[39m    Return the values as a NumPy array.\u001b[39;00m\n\u001b[1;32m    828\u001b[0m \n\u001b[0;32m   (...)\u001b[0m\n\u001b[1;32m    870\u001b[0m \u001b[39m          dtype='datetime64[ns]')\u001b[39;00m\n\u001b[1;32m    871\u001b[0m \u001b[39m    \"\"\"\u001b[39;00m\n\u001b[0;32m--> 872\u001b[0m     \u001b[39mreturn\u001b[39;00m np\u001b[39m.\u001b[39;49masarray(\u001b[39mself\u001b[39;49m\u001b[39m.\u001b[39;49m_values, dtype)\n",
      "\u001b[0;31mValueError\u001b[0m: could not convert string to float: 'brand emoji cheats'"
     ]
    }
   ],
   "source": [
    "clf.score(X_val,y_val)"
   ]
  },
  {
   "cell_type": "markdown",
   "metadata": {},
   "source": [
    "Check for overfitting here"
   ]
  },
  {
   "cell_type": "code",
   "execution_count": 395,
   "metadata": {},
   "outputs": [],
   "source": [
    "query = [\"custom fonts\"]"
   ]
  },
  {
   "cell_type": "code",
   "execution_count": 396,
   "metadata": {},
   "outputs": [],
   "source": [
    "query_vec = vectorizer.transform(query)"
   ]
  },
  {
   "cell_type": "code",
   "execution_count": 397,
   "metadata": {},
   "outputs": [],
   "source": [
    "query_vec_op = selector.transform(query_vec).astype('float32')"
   ]
  },
  {
   "cell_type": "code",
   "execution_count": 398,
   "metadata": {},
   "outputs": [
    {
     "data": {
      "text/plain": [
       "array(['font type'], dtype=object)"
      ]
     },
     "execution_count": 398,
     "metadata": {},
     "output_type": "execute_result"
    }
   ],
   "source": [
    "clf.predict(query_vec_op)"
   ]
  },
  {
   "cell_type": "code",
   "execution_count": 399,
   "metadata": {},
   "outputs": [
    {
     "data": {
      "text/plain": [
       "1.0"
      ]
     },
     "execution_count": 399,
     "metadata": {},
     "output_type": "execute_result"
    }
   ],
   "source": [
    "clf.predict_proba(query_vec_op).max()"
   ]
  },
  {
   "cell_type": "markdown",
   "metadata": {},
   "source": [
    "Use Monotype 2015 site for comparison:- https://web.archive.org/web/20151118070642/http://www.monotype.com/fonts/custom-fonts"
   ]
  },
  {
   "cell_type": "markdown",
   "metadata": {},
   "source": [
    "## Hyperparameter Optimisation\n"
   ]
  },
  {
   "cell_type": "code",
   "execution_count": 42,
   "metadata": {},
   "outputs": [],
   "source": [
    "from sklearn.model_selection import GridSearchCV"
   ]
  },
  {
   "cell_type": "code",
   "execution_count": 43,
   "metadata": {},
   "outputs": [],
   "source": [
    "parameters = {'n_estimators':[100, 200, 300, 400, 500],\n",
    "              'max_depth':[10,15,20,25,30,35,40]}"
   ]
  },
  {
   "cell_type": "code",
   "execution_count": 44,
   "metadata": {},
   "outputs": [],
   "source": [
    "clf_op = GridSearchCV(GradientBoostingClassifier(learning_rate=1.0, random_state=42), parameters, n_jobs=-1, verbose=3)"
   ]
  },
  {
   "cell_type": "code",
   "execution_count": 45,
   "metadata": {},
   "outputs": [
    {
     "name": "stdout",
     "output_type": "stream",
     "text": [
      "Fitting 5 folds for each of 35 candidates, totalling 175 fits\n",
      "[CV 1/5] END ....max_depth=10, n_estimators=100;, score=0.941 total time= 3.9min\n",
      "[CV 2/5] END ....max_depth=10, n_estimators=100;, score=0.934 total time= 4.2min\n",
      "[CV 5/5] END ....max_depth=10, n_estimators=100;, score=0.919 total time= 4.3min\n",
      "[CV 4/5] END ....max_depth=10, n_estimators=100;, score=0.898 total time= 4.5min\n",
      "[CV 3/5] END ....max_depth=10, n_estimators=100;, score=0.915 total time= 4.7min\n",
      "[CV 1/5] END ....max_depth=10, n_estimators=200;, score=0.942 total time= 7.6min\n",
      "[CV 5/5] END ....max_depth=10, n_estimators=200;, score=0.919 total time= 7.9min\n",
      "[CV 2/5] END ....max_depth=10, n_estimators=200;, score=0.933 total time= 8.0min\n",
      "[CV 3/5] END ....max_depth=10, n_estimators=200;, score=0.917 total time= 8.3min\n",
      "[CV 4/5] END ....max_depth=10, n_estimators=200;, score=0.902 total time= 9.9min\n",
      "[CV 2/5] END ....max_depth=10, n_estimators=300;, score=0.934 total time=11.5min\n",
      "[CV 1/5] END ....max_depth=10, n_estimators=300;, score=0.943 total time=11.5min\n",
      "[CV 5/5] END ....max_depth=10, n_estimators=300;, score=0.919 total time=11.2min\n",
      "[CV 3/5] END ....max_depth=10, n_estimators=300;, score=0.917 total time=11.9min\n",
      "[CV 4/5] END ....max_depth=10, n_estimators=300;, score=0.904 total time=13.2min\n",
      "[CV 1/5] END ....max_depth=10, n_estimators=400;, score=0.943 total time=14.4min\n",
      "[CV 2/5] END ....max_depth=10, n_estimators=400;, score=0.935 total time=15.5min\n",
      "[CV 5/5] END ....max_depth=10, n_estimators=400;, score=0.919 total time=13.6min\n",
      "[CV 1/5] END ....max_depth=15, n_estimators=100;, score=0.911 total time= 5.7min\n",
      "[CV 2/5] END ....max_depth=15, n_estimators=100;, score=0.922 total time= 5.6min\n",
      "[CV 3/5] END ....max_depth=10, n_estimators=400;, score=0.918 total time=15.6min\n",
      "[CV 3/5] END ....max_depth=15, n_estimators=100;, score=0.930 total time= 5.4min\n",
      "[CV 4/5] END ....max_depth=10, n_estimators=400;, score=0.904 total time=17.8min\n",
      "[CV 1/5] END ....max_depth=10, n_estimators=500;, score=0.943 total time=17.6min\n",
      "[CV 4/5] END ....max_depth=15, n_estimators=100;, score=0.921 total time= 6.3min\n",
      "[CV 5/5] END ....max_depth=15, n_estimators=100;, score=0.930 total time= 5.2min\n",
      "[CV 2/5] END ....max_depth=10, n_estimators=500;, score=0.936 total time=18.6min\n",
      "[CV 3/5] END ....max_depth=10, n_estimators=500;, score=0.918 total time=19.3min\n",
      "[CV 1/5] END ....max_depth=15, n_estimators=200;, score=0.907 total time=10.6min\n",
      "[CV 5/5] END ....max_depth=10, n_estimators=500;, score=0.919 total time=17.5min\n",
      "[CV 3/5] END ....max_depth=15, n_estimators=200;, score=0.932 total time=10.2min\n",
      "[CV 2/5] END ....max_depth=15, n_estimators=200;, score=0.922 total time=10.4min\n",
      "[CV 4/5] END ....max_depth=10, n_estimators=500;, score=0.904 total time=22.4min\n",
      "[CV 4/5] END ....max_depth=15, n_estimators=200;, score=0.922 total time=10.8min\n",
      "[CV 5/5] END ....max_depth=15, n_estimators=200;, score=0.931 total time= 9.6min\n",
      "[CV 1/5] END ....max_depth=15, n_estimators=300;, score=0.907 total time=15.3min\n",
      "[CV 2/5] END ....max_depth=15, n_estimators=300;, score=0.922 total time=15.4min\n",
      "[CV 3/5] END ....max_depth=15, n_estimators=300;, score=0.931 total time=15.4min\n",
      "[CV 5/5] END ....max_depth=15, n_estimators=300;, score=0.931 total time=13.5min\n",
      "[CV 4/5] END ....max_depth=15, n_estimators=300;, score=0.922 total time=15.9min\n",
      "[CV 1/5] END ....max_depth=20, n_estimators=100;, score=0.916 total time= 6.9min\n",
      "[CV 2/5] END ....max_depth=20, n_estimators=100;, score=0.929 total time= 7.2min\n",
      "[CV 5/5] END ....max_depth=15, n_estimators=400;, score=0.931 total time=17.9min\n",
      "[CV 1/5] END ....max_depth=15, n_estimators=400;, score=0.907 total time=20.0min\n",
      "[CV 3/5] END ....max_depth=15, n_estimators=400;, score=0.930 total time=19.8min\n",
      "[CV 4/5] END ....max_depth=15, n_estimators=400;, score=0.921 total time=20.0min\n",
      "[CV 2/5] END ....max_depth=15, n_estimators=400;, score=0.922 total time=20.7min\n",
      "[CV 3/5] END ....max_depth=20, n_estimators=100;, score=0.911 total time= 7.3min\n",
      "[CV 4/5] END ....max_depth=20, n_estimators=100;, score=0.913 total time= 7.8min\n",
      "[CV 1/5] END ....max_depth=15, n_estimators=500;, score=0.908 total time=24.9min\n",
      "[CV 5/5] END ....max_depth=20, n_estimators=100;, score=0.941 total time= 8.2min\n",
      "[CV 2/5] END ....max_depth=15, n_estimators=500;, score=0.922 total time=24.9min\n",
      "[CV 5/5] END ....max_depth=15, n_estimators=500;, score=0.931 total time=21.4min\n",
      "[CV 3/5] END ....max_depth=15, n_estimators=500;, score=0.931 total time=24.3min\n",
      "[CV 1/5] END ....max_depth=20, n_estimators=200;, score=0.917 total time=13.6min\n",
      "[CV 2/5] END ....max_depth=20, n_estimators=200;, score=0.928 total time=13.4min\n",
      "[CV 3/5] END ....max_depth=20, n_estimators=200;, score=0.912 total time=13.9min\n",
      "[CV 4/5] END ....max_depth=15, n_estimators=500;, score=0.922 total time=28.4min\n",
      "[CV 4/5] END ....max_depth=20, n_estimators=200;, score=0.910 total time=17.0min\n",
      "[CV 5/5] END ....max_depth=20, n_estimators=200;, score=0.942 total time=14.9min\n",
      "[CV 2/5] END ....max_depth=20, n_estimators=300;, score=0.928 total time=19.5min\n",
      "[CV 3/5] END ....max_depth=20, n_estimators=300;, score=0.911 total time=21.8min\n",
      "[CV 4/5] END ....max_depth=20, n_estimators=300;, score=0.910 total time=25.9min\n",
      "[CV 1/5] END ....max_depth=20, n_estimators=300;, score=0.918 total time=26.8min\n",
      "[CV 5/5] END ....max_depth=20, n_estimators=300;, score=0.935 total time=23.7min\n",
      "[CV 2/5] END ....max_depth=20, n_estimators=400;, score=0.928 total time=24.8min\n",
      "[CV 1/5] END ....max_depth=20, n_estimators=400;, score=0.918 total time=25.8min\n",
      "[CV 1/5] END ....max_depth=25, n_estimators=100;, score=0.931 total time= 7.4min\n",
      "[CV 4/5] END ....max_depth=20, n_estimators=400;, score=0.911 total time=28.4min\n",
      "[CV 2/5] END ....max_depth=25, n_estimators=100;, score=0.925 total time= 8.6min\n",
      "[CV 3/5] END ....max_depth=20, n_estimators=400;, score=0.913 total time=31.2min\n",
      "[CV 3/5] END ....max_depth=25, n_estimators=100;, score=0.936 total time= 8.0min\n",
      "[CV 5/5] END ....max_depth=20, n_estimators=400;, score=0.935 total time=30.2min\n",
      "[CV 4/5] END ....max_depth=25, n_estimators=100;, score=0.929 total time= 9.5min\n",
      "[CV 5/5] END ....max_depth=25, n_estimators=100;, score=0.940 total time= 8.3min\n",
      "[CV 1/5] END ....max_depth=20, n_estimators=500;, score=0.918 total time=31.8min\n",
      "[CV 2/5] END ....max_depth=20, n_estimators=500;, score=0.929 total time=31.1min\n",
      "[CV 1/5] END ....max_depth=25, n_estimators=200;, score=0.932 total time=14.0min\n",
      "[CV 2/5] END ....max_depth=25, n_estimators=200;, score=0.926 total time=16.4min\n",
      "[CV 3/5] END ....max_depth=20, n_estimators=500;, score=0.912 total time=33.0min\n",
      "[CV 3/5] END ....max_depth=25, n_estimators=200;, score=0.936 total time=15.7min\n",
      "[CV 5/5] END ....max_depth=25, n_estimators=200;, score=0.939 total time=15.1min\n",
      "[CV 4/5] END ....max_depth=25, n_estimators=200;, score=0.928 total time=17.5min\n",
      "[CV 4/5] END ....max_depth=20, n_estimators=500;, score=0.912 total time=36.2min\n",
      "[CV 1/5] END ....max_depth=25, n_estimators=300;, score=0.932 total time=20.5min\n",
      "[CV 5/5] END ....max_depth=20, n_estimators=500;, score=0.934 total time=36.4min\n",
      "[CV 3/5] END ....max_depth=25, n_estimators=300;, score=0.936 total time=22.5min\n",
      "[CV 2/5] END ....max_depth=25, n_estimators=300;, score=0.925 total time=23.4min\n",
      "[CV 4/5] END ....max_depth=25, n_estimators=300;, score=0.928 total time=25.7min\n",
      "[CV 5/5] END ....max_depth=25, n_estimators=300;, score=0.940 total time=22.5min\n",
      "[CV 1/5] END ....max_depth=30, n_estimators=100;, score=0.945 total time= 9.3min\n",
      "[CV 1/5] END ....max_depth=25, n_estimators=400;, score=0.933 total time=28.6min\n",
      "[CV 2/5] END ....max_depth=30, n_estimators=100;, score=0.930 total time=10.4min\n",
      "[CV 2/5] END ....max_depth=25, n_estimators=400;, score=0.925 total time=31.2min\n",
      "[CV 3/5] END ....max_depth=25, n_estimators=400;, score=0.936 total time=32.8min\n",
      "[CV 5/5] END ....max_depth=25, n_estimators=400;, score=0.935 total time=30.8min\n",
      "[CV 4/5] END ....max_depth=25, n_estimators=400;, score=0.928 total time=34.9min\n",
      "[CV 3/5] END ....max_depth=30, n_estimators=100;, score=0.939 total time=11.3min\n",
      "[CV 4/5] END ....max_depth=30, n_estimators=100;, score=0.947 total time=12.7min\n",
      "[CV 5/5] END ....max_depth=30, n_estimators=100;, score=0.925 total time=11.1min\n",
      "[CV 1/5] END ....max_depth=25, n_estimators=500;, score=0.934 total time=38.0min\n",
      "[CV 2/5] END ....max_depth=25, n_estimators=500;, score=0.925 total time=39.0min\n",
      "[CV 1/5] END ....max_depth=30, n_estimators=200;, score=0.944 total time=19.8min\n",
      "[CV 5/5] END ....max_depth=25, n_estimators=500;, score=0.932 total time=39.0min\n",
      "[CV 3/5] END ....max_depth=25, n_estimators=500;, score=0.936 total time=42.1min\n",
      "[CV 3/5] END ....max_depth=30, n_estimators=200;, score=0.940 total time=19.5min\n",
      "[CV 2/5] END ....max_depth=30, n_estimators=200;, score=0.930 total time=21.5min\n",
      "[CV 4/5] END ....max_depth=25, n_estimators=500;, score=0.928 total time=43.5min\n",
      "[CV 4/5] END ....max_depth=30, n_estimators=200;, score=0.947 total time=19.6min\n",
      "[CV 5/5] END ....max_depth=30, n_estimators=200;, score=0.924 total time=19.8min\n",
      "[CV 1/5] END ....max_depth=30, n_estimators=300;, score=0.943 total time=29.7min\n",
      "[CV 2/5] END ....max_depth=30, n_estimators=300;, score=0.931 total time=30.3min\n",
      "[CV 3/5] END ....max_depth=30, n_estimators=300;, score=0.939 total time=30.6min\n",
      "[CV 4/5] END ....max_depth=30, n_estimators=300;, score=0.950 total time=27.2min\n",
      "[CV 5/5] END ....max_depth=30, n_estimators=300;, score=0.925 total time=28.7min\n",
      "[CV 1/5] END ....max_depth=35, n_estimators=100;, score=0.921 total time=11.8min\n",
      "[CV 1/5] END ....max_depth=30, n_estimators=400;, score=0.944 total time=36.1min\n",
      "[CV 2/5] END ....max_depth=35, n_estimators=100;, score=0.942 total time= 9.8min\n",
      "[CV 3/5] END ....max_depth=30, n_estimators=400;, score=0.938 total time=37.2min\n",
      "[CV 4/5] END ....max_depth=30, n_estimators=400;, score=0.880 total time=37.0min\n",
      "[CV 2/5] END ....max_depth=30, n_estimators=400;, score=0.932 total time=41.8min\n",
      "[CV 5/5] END ....max_depth=30, n_estimators=400;, score=0.925 total time=38.5min\n",
      "[CV 3/5] END ....max_depth=35, n_estimators=100;, score=0.937 total time=10.1min\n",
      "[CV 4/5] END ....max_depth=35, n_estimators=100;, score=0.924 total time=10.6min\n",
      "[CV 5/5] END ....max_depth=35, n_estimators=100;, score=0.925 total time=10.7min\n",
      "[CV 1/5] END ....max_depth=30, n_estimators=500;, score=0.944 total time=46.5min\n",
      "[CV 2/5] END ....max_depth=30, n_estimators=500;, score=0.932 total time=50.3min\n",
      "[CV 2/5] END ....max_depth=35, n_estimators=200;, score=0.942 total time=18.4min\n",
      "[CV 1/5] END ....max_depth=35, n_estimators=200;, score=0.920 total time=23.0min\n",
      "[CV 3/5] END ....max_depth=35, n_estimators=200;, score=0.937 total time=20.8min\n",
      "[CV 4/5] END ....max_depth=35, n_estimators=200;, score=0.923 total time=21.4min\n",
      "[CV 4/5] END ....max_depth=30, n_estimators=500;, score=0.094 total time=44.8min\n",
      "[CV 5/5] END ....max_depth=35, n_estimators=200;, score=0.925 total time=20.5min\n",
      "[CV 3/5] END ....max_depth=30, n_estimators=500;, score=0.939 total time=50.2min\n",
      "[CV 5/5] END ....max_depth=30, n_estimators=500;, score=0.925 total time=49.3min\n"
     ]
    }
   ],
   "source": [
    "clf_op.fit(x_train,y_train)\n",
    "\n",
    "\n",
    "\n",
    "\n",
    "\n"
   ]
  },
  {
   "cell_type": "code",
   "execution_count": null,
   "metadata": {},
   "outputs": [],
   "source": []
  }
 ],
 "metadata": {
  "kernelspec": {
   "display_name": "Python 3.8.10 ('keyword_classifier-6oEb6Vw0')",
   "language": "python",
   "name": "python3"
  },
  "language_info": {
   "codemirror_mode": {
    "name": "ipython",
    "version": 3
   },
   "file_extension": ".py",
   "mimetype": "text/x-python",
   "name": "python",
   "nbconvert_exporter": "python",
   "pygments_lexer": "ipython3",
   "version": "3.8.10"
  },
  "orig_nbformat": 4,
  "vscode": {
   "interpreter": {
    "hash": "ef08b68ee5cb94ef1bae03e373bd9e3af69deb5aee2e526734d65d1f8b5a736d"
   }
  }
 },
 "nbformat": 4,
 "nbformat_minor": 2
}
