{
  "nbformat": 4,
  "nbformat_minor": 0,
  "metadata": {
    "colab": {
      "provenance": [],
      "authorship_tag": "ABX9TyMFf3fdiAJ+aFRWgioxwsiN",
      "include_colab_link": true
    },
    "kernelspec": {
      "name": "python3",
      "display_name": "Python 3"
    },
    "language_info": {
      "name": "python"
    }
  },
  "cells": [
    {
      "cell_type": "markdown",
      "metadata": {
        "id": "view-in-github",
        "colab_type": "text"
      },
      "source": [
        "<a href=\"https://colab.research.google.com/github/sandy-lee/keyword_classifier/blob/main/Keyword_Classifier.ipynb\" target=\"_parent\"><img src=\"https://colab.research.google.com/assets/colab-badge.svg\" alt=\"Open In Colab\"/></a>"
      ]
    },
    {
      "cell_type": "markdown",
      "source": [
        "# Keyword Classifier"
      ],
      "metadata": {
        "id": "fq6dj_Y31oq3"
      }
    },
    {
      "cell_type": "markdown",
      "source": [
        "This is a notebook to show how to implement a keyword classifier for classifying keywords as part of scaling SEO processes on large, complex accounts. I'll explain things as I go with a view to showing how effective machine learning models can scale for certain problems, and also to try and illustrate some of the intricacies involved.\n",
        "\n",
        "The dataset consists of around 10,000 keywords that I manually classified into one of around 25 categories.\n",
        "\n",
        "Classifying this by hand was particularly tedious, but I know the data very well and it is a good illustration of how machine learning can be used to scale processes for this kind of problem."
      ],
      "metadata": {
        "id": "r-ot_cQ_1xT9"
      }
    },
    {
      "cell_type": "markdown",
      "source": [
        "---"
      ],
      "metadata": {
        "id": "xO-MemRXS6N9"
      }
    },
    {
      "cell_type": "markdown",
      "source": [
        "To run a cell highlight it and then push SHIFT + ENTER"
      ],
      "metadata": {
        "id": "upFZvooPTA96"
      }
    },
    {
      "cell_type": "markdown",
      "source": [
        "TO START: Run the cell below first as it clones a Github repo that contains the dataset CSV and the model used in the code below. These files are in the **/keyword_classifier** folder."
      ],
      "metadata": {
        "id": "ow9VtvB52Hdf"
      }
    },
    {
      "cell_type": "code",
      "source": [
        "!git clone https://github.com/sandy-lee/keyword_classifier.git"
      ],
      "metadata": {
        "colab": {
          "base_uri": "https://localhost:8080/"
        },
        "id": "sYuS0b5zRkXD",
        "outputId": "1fe99d6d-62f8-4c51-a40b-e84ae69904a5"
      },
      "execution_count": null,
      "outputs": [
        {
          "output_type": "stream",
          "name": "stdout",
          "text": [
            "Cloning into 'keyword_classifier'...\n",
            "remote: Enumerating objects: 67, done.\u001b[K\n",
            "remote: Counting objects: 100% (67/67), done.\u001b[K\n",
            "remote: Compressing objects: 100% (54/54), done.\u001b[K\n",
            "remote: Total 67 (delta 35), reused 33 (delta 12), pack-reused 0\u001b[K\n",
            "Unpacking objects: 100% (67/67), 19.62 MiB | 1.95 MiB/s, done.\n"
          ]
        }
      ]
    },
    {
      "cell_type": "markdown",
      "source": [
        "##Code Imports"
      ],
      "metadata": {
        "id": "m8TD8gKM3PmZ"
      }
    },
    {
      "cell_type": "code",
      "source": [
        "import pandas as pd    #pandas for tabular data manipulation\n",
        "import numpy as np     #numpy for working with large matrices of numbers\n",
        "import pickle    #pickle to seralise python objests\n",
        "from sklearn.utils import resample    #scikit-learn sampler for upsampling datasets\n",
        "from sklearn.feature_extraction.text import TfidfVectorizer    #skikit-learn tf-idf vectoriser for encoding keywords\n",
        "from sklearn.model_selection import train_test_split    #scikit-learn train/test split for creating randomised training and testing datasets\n",
        "from sklearn.feature_selection import f_classif    #scikit-learn statistical test for calculating how significant model features are for training\n",
        "from sklearn.feature_selection import SelectKBest    #scikit-learn library for selecting best features for model training based on f_classif\n",
        "from sklearn.ensemble import GradientBoostingClassifier    #scikit-learn importthat implements a Gradient Boosted Descision Tree Classifier\n",
        "from sklearn.metrics import confusion_matrix    #scikit-learn import that calculates a confusion matrix to show classifier performance\n",
        "from sklearn import metrics    #scikit-learn import for generating performance metrics for classifier\n",
        "import matplotlib.pyplot as plt    #pyplot for producing plots\n",
        "import seaborn as sns    #seaborn library for producing nicer looking plots"
      ],
      "metadata": {
        "id": "I0ac3UIjSo3t"
      },
      "execution_count": null,
      "outputs": []
    },
    {
      "cell_type": "markdown",
      "source": [
        "## Data Import and Cleaning"
      ],
      "metadata": {
        "id": "aKePvKsP7EGX"
      }
    },
    {
      "cell_type": "code",
      "source": [
        "keywords = pd.read_csv('keyword_classifier/keywords_categories.csv')    #import CSV into a dataframe"
      ],
      "metadata": {
        "id": "tlrDPKAkS9nd"
      },
      "execution_count": null,
      "outputs": []
    },
    {
      "cell_type": "code",
      "source": [
        "keywords.head(20)    #first 20 row of the dataset; it consists of 2 columns with keyword and its category in the next column"
      ],
      "metadata": {
        "colab": {
          "base_uri": "https://localhost:8080/",
          "height": 669
        },
        "id": "ee2WmAvOTJ3M",
        "outputId": "64ca9cf2-5712-4904-bdad-68890b834df3"
      },
      "execution_count": null,
      "outputs": [
        {
          "output_type": "execute_result",
          "data": {
            "text/plain": [
              "                    keyword   category\n",
              "0             writing fonts  font type\n",
              "1                word fonts  font type\n",
              "2             windows fonts  font type\n",
              "3             wedding fonts  font type\n",
              "4              wedding font  font type\n",
              "5             website fonts  font type\n",
              "6                  webfonts  font type\n",
              "7                   webfont  font type\n",
              "8            web safe fonts  font type\n",
              "9        web friendly fonts  font type\n",
              "10       web fonts services  font type\n",
              "11  web fonts for photoshop  font type\n",
              "12                web fonts  font type\n",
              "13                 web font  font type\n",
              "14         videogames fonts  font type\n",
              "15          videogames font  font type\n",
              "16          videogame fonts  font type\n",
              "17           videogame font  font type\n",
              "18        video games fonts  font type\n",
              "19         video games font  font type"
            ],
            "text/html": [
              "\n",
              "  <div id=\"df-3131fd26-64b1-4a7e-bc85-3b24ab0fd1b1\">\n",
              "    <div class=\"colab-df-container\">\n",
              "      <div>\n",
              "<style scoped>\n",
              "    .dataframe tbody tr th:only-of-type {\n",
              "        vertical-align: middle;\n",
              "    }\n",
              "\n",
              "    .dataframe tbody tr th {\n",
              "        vertical-align: top;\n",
              "    }\n",
              "\n",
              "    .dataframe thead th {\n",
              "        text-align: right;\n",
              "    }\n",
              "</style>\n",
              "<table border=\"1\" class=\"dataframe\">\n",
              "  <thead>\n",
              "    <tr style=\"text-align: right;\">\n",
              "      <th></th>\n",
              "      <th>keyword</th>\n",
              "      <th>category</th>\n",
              "    </tr>\n",
              "  </thead>\n",
              "  <tbody>\n",
              "    <tr>\n",
              "      <th>0</th>\n",
              "      <td>writing fonts</td>\n",
              "      <td>font type</td>\n",
              "    </tr>\n",
              "    <tr>\n",
              "      <th>1</th>\n",
              "      <td>word fonts</td>\n",
              "      <td>font type</td>\n",
              "    </tr>\n",
              "    <tr>\n",
              "      <th>2</th>\n",
              "      <td>windows fonts</td>\n",
              "      <td>font type</td>\n",
              "    </tr>\n",
              "    <tr>\n",
              "      <th>3</th>\n",
              "      <td>wedding fonts</td>\n",
              "      <td>font type</td>\n",
              "    </tr>\n",
              "    <tr>\n",
              "      <th>4</th>\n",
              "      <td>wedding font</td>\n",
              "      <td>font type</td>\n",
              "    </tr>\n",
              "    <tr>\n",
              "      <th>5</th>\n",
              "      <td>website fonts</td>\n",
              "      <td>font type</td>\n",
              "    </tr>\n",
              "    <tr>\n",
              "      <th>6</th>\n",
              "      <td>webfonts</td>\n",
              "      <td>font type</td>\n",
              "    </tr>\n",
              "    <tr>\n",
              "      <th>7</th>\n",
              "      <td>webfont</td>\n",
              "      <td>font type</td>\n",
              "    </tr>\n",
              "    <tr>\n",
              "      <th>8</th>\n",
              "      <td>web safe fonts</td>\n",
              "      <td>font type</td>\n",
              "    </tr>\n",
              "    <tr>\n",
              "      <th>9</th>\n",
              "      <td>web friendly fonts</td>\n",
              "      <td>font type</td>\n",
              "    </tr>\n",
              "    <tr>\n",
              "      <th>10</th>\n",
              "      <td>web fonts services</td>\n",
              "      <td>font type</td>\n",
              "    </tr>\n",
              "    <tr>\n",
              "      <th>11</th>\n",
              "      <td>web fonts for photoshop</td>\n",
              "      <td>font type</td>\n",
              "    </tr>\n",
              "    <tr>\n",
              "      <th>12</th>\n",
              "      <td>web fonts</td>\n",
              "      <td>font type</td>\n",
              "    </tr>\n",
              "    <tr>\n",
              "      <th>13</th>\n",
              "      <td>web font</td>\n",
              "      <td>font type</td>\n",
              "    </tr>\n",
              "    <tr>\n",
              "      <th>14</th>\n",
              "      <td>videogames fonts</td>\n",
              "      <td>font type</td>\n",
              "    </tr>\n",
              "    <tr>\n",
              "      <th>15</th>\n",
              "      <td>videogames font</td>\n",
              "      <td>font type</td>\n",
              "    </tr>\n",
              "    <tr>\n",
              "      <th>16</th>\n",
              "      <td>videogame fonts</td>\n",
              "      <td>font type</td>\n",
              "    </tr>\n",
              "    <tr>\n",
              "      <th>17</th>\n",
              "      <td>videogame font</td>\n",
              "      <td>font type</td>\n",
              "    </tr>\n",
              "    <tr>\n",
              "      <th>18</th>\n",
              "      <td>video games fonts</td>\n",
              "      <td>font type</td>\n",
              "    </tr>\n",
              "    <tr>\n",
              "      <th>19</th>\n",
              "      <td>video games font</td>\n",
              "      <td>font type</td>\n",
              "    </tr>\n",
              "  </tbody>\n",
              "</table>\n",
              "</div>\n",
              "      <button class=\"colab-df-convert\" onclick=\"convertToInteractive('df-3131fd26-64b1-4a7e-bc85-3b24ab0fd1b1')\"\n",
              "              title=\"Convert this dataframe to an interactive table.\"\n",
              "              style=\"display:none;\">\n",
              "        \n",
              "  <svg xmlns=\"http://www.w3.org/2000/svg\" height=\"24px\"viewBox=\"0 0 24 24\"\n",
              "       width=\"24px\">\n",
              "    <path d=\"M0 0h24v24H0V0z\" fill=\"none\"/>\n",
              "    <path d=\"M18.56 5.44l.94 2.06.94-2.06 2.06-.94-2.06-.94-.94-2.06-.94 2.06-2.06.94zm-11 1L8.5 8.5l.94-2.06 2.06-.94-2.06-.94L8.5 2.5l-.94 2.06-2.06.94zm10 10l.94 2.06.94-2.06 2.06-.94-2.06-.94-.94-2.06-.94 2.06-2.06.94z\"/><path d=\"M17.41 7.96l-1.37-1.37c-.4-.4-.92-.59-1.43-.59-.52 0-1.04.2-1.43.59L10.3 9.45l-7.72 7.72c-.78.78-.78 2.05 0 2.83L4 21.41c.39.39.9.59 1.41.59.51 0 1.02-.2 1.41-.59l7.78-7.78 2.81-2.81c.8-.78.8-2.07 0-2.86zM5.41 20L4 18.59l7.72-7.72 1.47 1.35L5.41 20z\"/>\n",
              "  </svg>\n",
              "      </button>\n",
              "      \n",
              "  <style>\n",
              "    .colab-df-container {\n",
              "      display:flex;\n",
              "      flex-wrap:wrap;\n",
              "      gap: 12px;\n",
              "    }\n",
              "\n",
              "    .colab-df-convert {\n",
              "      background-color: #E8F0FE;\n",
              "      border: none;\n",
              "      border-radius: 50%;\n",
              "      cursor: pointer;\n",
              "      display: none;\n",
              "      fill: #1967D2;\n",
              "      height: 32px;\n",
              "      padding: 0 0 0 0;\n",
              "      width: 32px;\n",
              "    }\n",
              "\n",
              "    .colab-df-convert:hover {\n",
              "      background-color: #E2EBFA;\n",
              "      box-shadow: 0px 1px 2px rgba(60, 64, 67, 0.3), 0px 1px 3px 1px rgba(60, 64, 67, 0.15);\n",
              "      fill: #174EA6;\n",
              "    }\n",
              "\n",
              "    [theme=dark] .colab-df-convert {\n",
              "      background-color: #3B4455;\n",
              "      fill: #D2E3FC;\n",
              "    }\n",
              "\n",
              "    [theme=dark] .colab-df-convert:hover {\n",
              "      background-color: #434B5C;\n",
              "      box-shadow: 0px 1px 3px 1px rgba(0, 0, 0, 0.15);\n",
              "      filter: drop-shadow(0px 1px 2px rgba(0, 0, 0, 0.3));\n",
              "      fill: #FFFFFF;\n",
              "    }\n",
              "  </style>\n",
              "\n",
              "      <script>\n",
              "        const buttonEl =\n",
              "          document.querySelector('#df-3131fd26-64b1-4a7e-bc85-3b24ab0fd1b1 button.colab-df-convert');\n",
              "        buttonEl.style.display =\n",
              "          google.colab.kernel.accessAllowed ? 'block' : 'none';\n",
              "\n",
              "        async function convertToInteractive(key) {\n",
              "          const element = document.querySelector('#df-3131fd26-64b1-4a7e-bc85-3b24ab0fd1b1');\n",
              "          const dataTable =\n",
              "            await google.colab.kernel.invokeFunction('convertToInteractive',\n",
              "                                                     [key], {});\n",
              "          if (!dataTable) return;\n",
              "\n",
              "          const docLinkHtml = 'Like what you see? Visit the ' +\n",
              "            '<a target=\"_blank\" href=https://colab.research.google.com/notebooks/data_table.ipynb>data table notebook</a>'\n",
              "            + ' to learn more about interactive tables.';\n",
              "          element.innerHTML = '';\n",
              "          dataTable['output_type'] = 'display_data';\n",
              "          await google.colab.output.renderOutput(dataTable, element);\n",
              "          const docLink = document.createElement('div');\n",
              "          docLink.innerHTML = docLinkHtml;\n",
              "          element.appendChild(docLink);\n",
              "        }\n",
              "      </script>\n",
              "    </div>\n",
              "  </div>\n",
              "  "
            ]
          },
          "metadata": {},
          "execution_count": 4
        }
      ]
    },
    {
      "cell_type": "code",
      "source": [
        "keywords.pivot_table('keyword', index = 'category', aggfunc='count').sort_values(by='keyword', ascending=False)    #this is a pivot table of all categories with the number of keywords"
      ],
      "metadata": {
        "colab": {
          "base_uri": "https://localhost:8080/",
          "height": 855
        },
        "id": "yW8mHQa7a90d",
        "outputId": "e082eae3-3671-4208-8f8c-a7ef20cfb725"
      },
      "execution_count": null,
      "outputs": [
        {
          "output_type": "execute_result",
          "data": {
            "text/plain": [
              "                     keyword\n",
              "category                    \n",
              "monotype                2188\n",
              "font technology         1740\n",
              "fonts by vertical        936\n",
              "font                     813\n",
              "html5                    703\n",
              "digital advertising      586\n",
              "emoji                    547\n",
              "font type                488\n",
              "mobile advertising       457\n",
              "fonts for                428\n",
              "sticker packs            281\n",
              "fontshop                 166\n",
              "flash alternatives       143\n",
              "misc                     142\n",
              "brand emoji              119\n",
              "font style               112\n",
              "linotype                  81\n",
              "expertise                 62\n",
              "people                    32\n",
              "swyft                     23\n",
              "fontfont                  19\n",
              "ITC                       15\n",
              "bitstream                  4\n",
              "ascender                   3\n",
              "mobile sticker             1"
            ],
            "text/html": [
              "\n",
              "  <div id=\"df-5327ec5f-526f-482c-be66-6104bca8b5b2\">\n",
              "    <div class=\"colab-df-container\">\n",
              "      <div>\n",
              "<style scoped>\n",
              "    .dataframe tbody tr th:only-of-type {\n",
              "        vertical-align: middle;\n",
              "    }\n",
              "\n",
              "    .dataframe tbody tr th {\n",
              "        vertical-align: top;\n",
              "    }\n",
              "\n",
              "    .dataframe thead th {\n",
              "        text-align: right;\n",
              "    }\n",
              "</style>\n",
              "<table border=\"1\" class=\"dataframe\">\n",
              "  <thead>\n",
              "    <tr style=\"text-align: right;\">\n",
              "      <th></th>\n",
              "      <th>keyword</th>\n",
              "    </tr>\n",
              "    <tr>\n",
              "      <th>category</th>\n",
              "      <th></th>\n",
              "    </tr>\n",
              "  </thead>\n",
              "  <tbody>\n",
              "    <tr>\n",
              "      <th>monotype</th>\n",
              "      <td>2188</td>\n",
              "    </tr>\n",
              "    <tr>\n",
              "      <th>font technology</th>\n",
              "      <td>1740</td>\n",
              "    </tr>\n",
              "    <tr>\n",
              "      <th>fonts by vertical</th>\n",
              "      <td>936</td>\n",
              "    </tr>\n",
              "    <tr>\n",
              "      <th>font</th>\n",
              "      <td>813</td>\n",
              "    </tr>\n",
              "    <tr>\n",
              "      <th>html5</th>\n",
              "      <td>703</td>\n",
              "    </tr>\n",
              "    <tr>\n",
              "      <th>digital advertising</th>\n",
              "      <td>586</td>\n",
              "    </tr>\n",
              "    <tr>\n",
              "      <th>emoji</th>\n",
              "      <td>547</td>\n",
              "    </tr>\n",
              "    <tr>\n",
              "      <th>font type</th>\n",
              "      <td>488</td>\n",
              "    </tr>\n",
              "    <tr>\n",
              "      <th>mobile advertising</th>\n",
              "      <td>457</td>\n",
              "    </tr>\n",
              "    <tr>\n",
              "      <th>fonts for</th>\n",
              "      <td>428</td>\n",
              "    </tr>\n",
              "    <tr>\n",
              "      <th>sticker packs</th>\n",
              "      <td>281</td>\n",
              "    </tr>\n",
              "    <tr>\n",
              "      <th>fontshop</th>\n",
              "      <td>166</td>\n",
              "    </tr>\n",
              "    <tr>\n",
              "      <th>flash alternatives</th>\n",
              "      <td>143</td>\n",
              "    </tr>\n",
              "    <tr>\n",
              "      <th>misc</th>\n",
              "      <td>142</td>\n",
              "    </tr>\n",
              "    <tr>\n",
              "      <th>brand emoji</th>\n",
              "      <td>119</td>\n",
              "    </tr>\n",
              "    <tr>\n",
              "      <th>font style</th>\n",
              "      <td>112</td>\n",
              "    </tr>\n",
              "    <tr>\n",
              "      <th>linotype</th>\n",
              "      <td>81</td>\n",
              "    </tr>\n",
              "    <tr>\n",
              "      <th>expertise</th>\n",
              "      <td>62</td>\n",
              "    </tr>\n",
              "    <tr>\n",
              "      <th>people</th>\n",
              "      <td>32</td>\n",
              "    </tr>\n",
              "    <tr>\n",
              "      <th>swyft</th>\n",
              "      <td>23</td>\n",
              "    </tr>\n",
              "    <tr>\n",
              "      <th>fontfont</th>\n",
              "      <td>19</td>\n",
              "    </tr>\n",
              "    <tr>\n",
              "      <th>ITC</th>\n",
              "      <td>15</td>\n",
              "    </tr>\n",
              "    <tr>\n",
              "      <th>bitstream</th>\n",
              "      <td>4</td>\n",
              "    </tr>\n",
              "    <tr>\n",
              "      <th>ascender</th>\n",
              "      <td>3</td>\n",
              "    </tr>\n",
              "    <tr>\n",
              "      <th>mobile sticker</th>\n",
              "      <td>1</td>\n",
              "    </tr>\n",
              "  </tbody>\n",
              "</table>\n",
              "</div>\n",
              "      <button class=\"colab-df-convert\" onclick=\"convertToInteractive('df-5327ec5f-526f-482c-be66-6104bca8b5b2')\"\n",
              "              title=\"Convert this dataframe to an interactive table.\"\n",
              "              style=\"display:none;\">\n",
              "        \n",
              "  <svg xmlns=\"http://www.w3.org/2000/svg\" height=\"24px\"viewBox=\"0 0 24 24\"\n",
              "       width=\"24px\">\n",
              "    <path d=\"M0 0h24v24H0V0z\" fill=\"none\"/>\n",
              "    <path d=\"M18.56 5.44l.94 2.06.94-2.06 2.06-.94-2.06-.94-.94-2.06-.94 2.06-2.06.94zm-11 1L8.5 8.5l.94-2.06 2.06-.94-2.06-.94L8.5 2.5l-.94 2.06-2.06.94zm10 10l.94 2.06.94-2.06 2.06-.94-2.06-.94-.94-2.06-.94 2.06-2.06.94z\"/><path d=\"M17.41 7.96l-1.37-1.37c-.4-.4-.92-.59-1.43-.59-.52 0-1.04.2-1.43.59L10.3 9.45l-7.72 7.72c-.78.78-.78 2.05 0 2.83L4 21.41c.39.39.9.59 1.41.59.51 0 1.02-.2 1.41-.59l7.78-7.78 2.81-2.81c.8-.78.8-2.07 0-2.86zM5.41 20L4 18.59l7.72-7.72 1.47 1.35L5.41 20z\"/>\n",
              "  </svg>\n",
              "      </button>\n",
              "      \n",
              "  <style>\n",
              "    .colab-df-container {\n",
              "      display:flex;\n",
              "      flex-wrap:wrap;\n",
              "      gap: 12px;\n",
              "    }\n",
              "\n",
              "    .colab-df-convert {\n",
              "      background-color: #E8F0FE;\n",
              "      border: none;\n",
              "      border-radius: 50%;\n",
              "      cursor: pointer;\n",
              "      display: none;\n",
              "      fill: #1967D2;\n",
              "      height: 32px;\n",
              "      padding: 0 0 0 0;\n",
              "      width: 32px;\n",
              "    }\n",
              "\n",
              "    .colab-df-convert:hover {\n",
              "      background-color: #E2EBFA;\n",
              "      box-shadow: 0px 1px 2px rgba(60, 64, 67, 0.3), 0px 1px 3px 1px rgba(60, 64, 67, 0.15);\n",
              "      fill: #174EA6;\n",
              "    }\n",
              "\n",
              "    [theme=dark] .colab-df-convert {\n",
              "      background-color: #3B4455;\n",
              "      fill: #D2E3FC;\n",
              "    }\n",
              "\n",
              "    [theme=dark] .colab-df-convert:hover {\n",
              "      background-color: #434B5C;\n",
              "      box-shadow: 0px 1px 3px 1px rgba(0, 0, 0, 0.15);\n",
              "      filter: drop-shadow(0px 1px 2px rgba(0, 0, 0, 0.3));\n",
              "      fill: #FFFFFF;\n",
              "    }\n",
              "  </style>\n",
              "\n",
              "      <script>\n",
              "        const buttonEl =\n",
              "          document.querySelector('#df-5327ec5f-526f-482c-be66-6104bca8b5b2 button.colab-df-convert');\n",
              "        buttonEl.style.display =\n",
              "          google.colab.kernel.accessAllowed ? 'block' : 'none';\n",
              "\n",
              "        async function convertToInteractive(key) {\n",
              "          const element = document.querySelector('#df-5327ec5f-526f-482c-be66-6104bca8b5b2');\n",
              "          const dataTable =\n",
              "            await google.colab.kernel.invokeFunction('convertToInteractive',\n",
              "                                                     [key], {});\n",
              "          if (!dataTable) return;\n",
              "\n",
              "          const docLinkHtml = 'Like what you see? Visit the ' +\n",
              "            '<a target=\"_blank\" href=https://colab.research.google.com/notebooks/data_table.ipynb>data table notebook</a>'\n",
              "            + ' to learn more about interactive tables.';\n",
              "          element.innerHTML = '';\n",
              "          dataTable['output_type'] = 'display_data';\n",
              "          await google.colab.output.renderOutput(dataTable, element);\n",
              "          const docLink = document.createElement('div');\n",
              "          docLink.innerHTML = docLinkHtml;\n",
              "          element.appendChild(docLink);\n",
              "        }\n",
              "      </script>\n",
              "    </div>\n",
              "  </div>\n",
              "  "
            ]
          },
          "metadata": {},
          "execution_count": 5
        }
      ]
    },
    {
      "cell_type": "markdown",
      "source": [
        "Data leakage is where a model has access to information it shouldn't have access to before making a prediction. So for example in this case it is where the keyword and the category are the same (e.g. the keyword [font] belonging to the FONT category); all instances of data leakage should be removed as it can negatively impact the model performance."
      ],
      "metadata": {
        "id": "tYUZI_3e8QvF"
      }
    },
    {
      "cell_type": "code",
      "source": [
        "data_leakage = [row for row in zip(keywords.keyword,keywords.category) if row[0] == row[1]]\n",
        "data_leakage_df = pd.DataFrame(columns = ['keyword', 'category'], data=data_leakage)"
      ],
      "metadata": {
        "id": "ULaxensnZmsJ"
      },
      "execution_count": null,
      "outputs": []
    },
    {
      "cell_type": "code",
      "source": [
        "keywords = keywords[~(keywords.keyword + keywords.category).isin(data_leakage_df.keyword + data_leakage_df.category)]"
      ],
      "metadata": {
        "id": "M95sM9AGZmbh"
      },
      "execution_count": null,
      "outputs": []
    },
    {
      "cell_type": "markdown",
      "source": [
        "Any category that has less than 100 keywords will negatively impact model performance as there isn't enough keywords for the model to be able to make any reasonable interpretations and will appear as noise. These smaller categorys are rolled into a larger 'miscellaneous' category."
      ],
      "metadata": {
        "id": "UCztmBTR9CAt"
      }
    },
    {
      "cell_type": "code",
      "source": [
        "item_counts = keywords.category.value_counts()\n",
        "for index,item in enumerate(keywords.category):\n",
        "    if item_counts.loc[item]<100:\n",
        "        keywords.category.iloc[index]='misc'"
      ],
      "metadata": {
        "id": "4MaPhjLSZl8Y",
        "outputId": "0102f147-381c-41db-dcf8-afd149cab028",
        "colab": {
          "base_uri": "https://localhost:8080/"
        }
      },
      "execution_count": null,
      "outputs": [
        {
          "output_type": "stream",
          "name": "stderr",
          "text": [
            "<ipython-input-8-4aef160dab7a>:4: SettingWithCopyWarning: \n",
            "A value is trying to be set on a copy of a slice from a DataFrame\n",
            "\n",
            "See the caveats in the documentation: https://pandas.pydata.org/pandas-docs/stable/user_guide/indexing.html#returning-a-view-versus-a-copy\n",
            "  keywords.category.iloc[index]='misc'\n"
          ]
        }
      ]
    },
    {
      "cell_type": "code",
      "source": [
        "item_counts = keywords.category.value_counts()\n",
        "item_counts"
      ],
      "metadata": {
        "colab": {
          "base_uri": "https://localhost:8080/"
        },
        "id": "nLzwTmFxi_Mz",
        "outputId": "2d7057ad-5e1d-41fa-c2de-08e7da8678d2"
      },
      "execution_count": null,
      "outputs": [
        {
          "output_type": "execute_result",
          "data": {
            "text/plain": [
              "monotype               2185\n",
              "font technology        1739\n",
              "fonts by vertical       936\n",
              "font                    813\n",
              "html5                   702\n",
              "digital advertising     585\n",
              "emoji                   546\n",
              "font type               488\n",
              "mobile advertising      456\n",
              "fonts for               428\n",
              "misc                    381\n",
              "sticker packs           280\n",
              "fontshop                165\n",
              "flash alternatives      142\n",
              "brand emoji             118\n",
              "font style              112\n",
              "Name: category, dtype: int64"
            ]
          },
          "metadata": {},
          "execution_count": 9
        }
      ]
    },
    {
      "cell_type": "markdown",
      "source": [
        "Below is a plot showing the number of keywords per category with the new categories. There are issues with a large class imbalance which will impact model performance. We need to make sure there is the same number of instances in each class so the model won't become skewed."
      ],
      "metadata": {
        "id": "RaziP8Ul9oxq"
      }
    },
    {
      "cell_type": "code",
      "source": [
        "classes = keywords.pivot_table('keyword', index = 'category', aggfunc='count').sort_values(by='keyword', ascending=False)"
      ],
      "metadata": {
        "id": "DF3BR7IPZlMT"
      },
      "execution_count": null,
      "outputs": []
    },
    {
      "cell_type": "code",
      "source": [
        "classes.plot.bar(figsize=(20,10))"
      ],
      "metadata": {
        "colab": {
          "base_uri": "https://localhost:8080/",
          "height": 757
        },
        "id": "FFMTbw_mareO",
        "outputId": "b3659c7b-cebb-45bc-edcd-a0acf530dc0f"
      },
      "execution_count": null,
      "outputs": [
        {
          "output_type": "execute_result",
          "data": {
            "text/plain": [
              "<Axes: xlabel='category'>"
            ]
          },
          "metadata": {},
          "execution_count": 11
        },
        {
          "output_type": "display_data",
          "data": {
            "text/plain": [
              "<Figure size 2000x1000 with 1 Axes>"
            ],
            "image/png": "[encoded data removed]"
          },
          "metadata": {}
        }
      ]
    },
    {
      "cell_type": "markdown",
      "source": [
        "In order to deal with class , we need to randomly upsample the other classes so they have the same number of instances as the majority class (in the case of the MONOTYPE class which has 2,185 instances). The sampling is random with replacement and will eliminate class imbalance without disrupting the variance in the dataset too much and producing a lot more valid data to work with."
      ],
      "metadata": {
        "id": "4YrYw0x0-Yqg"
      }
    },
    {
      "cell_type": "code",
      "source": [
        "def upsample(class_list, dataframe):\n",
        "    frames = {}\n",
        "    frames_upsampled = {}\n",
        "    for index,item in enumerate(class_list):\n",
        "        frames[item]= dataframe[dataframe.category == class_list[index]]\n",
        "    for index,item in enumerate(class_list):\n",
        "        frames_upsampled[item] = resample(frames[item], replace=True,\n",
        "        n_samples = 2185, random_state = 42)\n",
        "    upsampled_df = pd.concat(frames_upsampled.values(), ignore_index=True)\n",
        "    return upsampled_df"
      ],
      "metadata": {
        "id": "8ayIxRoYeEMd"
      },
      "execution_count": null,
      "outputs": []
    },
    {
      "cell_type": "code",
      "source": [
        "upsampled = upsample(item_counts.index.tolist(), keywords)"
      ],
      "metadata": {
        "id": "q6cD4TkgeDyA"
      },
      "execution_count": null,
      "outputs": []
    },
    {
      "cell_type": "code",
      "source": [
        "classes_upsampled = upsampled.pivot_table('keyword', index = 'category', aggfunc='count').sort_values(by='keyword', ascending=False)"
      ],
      "metadata": {
        "id": "3_2A2mOkeDSy"
      },
      "execution_count": null,
      "outputs": []
    },
    {
      "cell_type": "markdown",
      "source": [
        "The plot below shows the number of instances per class and as we can see they are now all the same with the dataset having been tripled."
      ],
      "metadata": {
        "id": "EyIh8PGH-9EC"
      }
    },
    {
      "cell_type": "code",
      "source": [
        "classes_upsampled.plot.bar(figsize=(20,10))"
      ],
      "metadata": {
        "colab": {
          "base_uri": "https://localhost:8080/",
          "height": 706
        },
        "id": "nXKBzcpJeCnM",
        "outputId": "f6e48760-1d2f-4c29-93f2-41326762ebaa"
      },
      "execution_count": null,
      "outputs": [
        {
          "output_type": "execute_result",
          "data": {
            "text/plain": [
              "<matplotlib.axes._subplots.AxesSubplot at 0x7fbc81ce8a90>"
            ]
          },
          "metadata": {},
          "execution_count": 20
        },
        {
          "output_type": "display_data",
          "data": {
            "text/plain": [
              "<Figure size 1440x720 with 1 Axes>"
            ],
            "image/png": "[encoded data removed]"
          },
          "metadata": {
            "needs_background": "light"
          }
        }
      ]
    },
    {
      "cell_type": "markdown",
      "source": [
        "The upsampled dataset is now split into two with `X=keywords` and `y=classes`. These now need to randomly be split into three separate datasets. Seventy percent of the data is the **training** dataset that will be used to train the classifier. Fifteen percent of the dataset will be **validation** dataset not used in training but will be used to optimise the dataset training to produce better results. The final fifteen percent is used as a **test** dataset and is not used for any kind of training or optimisation and is used to assess the performance of the classifier with unseen data. More information [here](https://towardsdatascience.com/train-validation-and-test-sets-72cb40cba9e7)."
      ],
      "metadata": {
        "id": "OYnn0XwK_ZN0"
      }
    },
    {
      "cell_type": "code",
      "source": [
        "X = upsampled.keyword\n",
        "y = upsampled.category\n",
        "X_train, X_remainder, y_train, y_remainder = train_test_split(X, y, test_size = 0.3, random_state = 42)\n",
        "X_test, X_val, y_test, y_val = train_test_split(X_remainder, y_remainder, test_size = 0.5, random_state = 42)"
      ],
      "metadata": {
        "id": "Ec4zcQXWk5Y_"
      },
      "execution_count": null,
      "outputs": []
    },
    {
      "cell_type": "markdown",
      "source": [
        "Machine learning models can only work with numbers and so before the data can be used for training it needs to be encoded in a way that captures features with a variance that is useful for model training. There are lots of ways to do this, but for this type of problem, one of the most effective ways of doing this is to use **Term Frequency-Inverse Document Frequency**(TF-IDF). More information [here](https://medium.com/@cmukesh8688/tf-idf-vectorizer-scikit-learn-dbc0244a911a)."
      ],
      "metadata": {
        "id": "UaQi5oPxA_m9"
      }
    },
    {
      "cell_type": "code",
      "source": [
        "vectorizer = TfidfVectorizer(ngram_range=(1,2), dtype= 'int32', strip_accents= 'unicode', decode_error='replace', analyzer= 'word', min_df= 2)"
      ],
      "metadata": {
        "id": "7rvGzIGzk48b"
      },
      "execution_count": null,
      "outputs": []
    },
    {
      "cell_type": "code",
      "source": [
        "x_train = vectorizer.fit_transform(X_train);"
      ],
      "metadata": {
        "colab": {
          "base_uri": "https://localhost:8080/"
        },
        "id": "oyxL6WFUk4fq",
        "outputId": "1dc81c28-eec2-45ed-f2a2-5354191c1933"
      },
      "execution_count": null,
      "outputs": [
        {
          "output_type": "stream",
          "name": "stderr",
          "text": [
            "/usr/local/lib/python3.7/dist-packages/sklearn/feature_extraction/text.py:2032: UserWarning: Only (<class 'numpy.float64'>, <class 'numpy.float32'>, <class 'numpy.float16'>) 'dtype' should be used. int32 'dtype' will be converted to np.float64.\n",
            "  UserWarning,\n"
          ]
        }
      ]
    },
    {
      "cell_type": "code",
      "source": [
        "x_test = vectorizer.transform(X_test)"
      ],
      "metadata": {
        "id": "DdexfDZ-k3ZC"
      },
      "execution_count": null,
      "outputs": []
    },
    {
      "cell_type": "markdown",
      "source": [
        "Machine models work better when redundant data is removed. Redundant meaning they don't contribute anything to model training. With `f_classif` we use an [ANOVA](https://https://en.wikipedia.org/wiki/Analysis_of_variance) test to highlight features that have lower variance and greater distance between means and therefore greater discrimination between classes. More information [here](https://datascience.stackexchange.com/questions/74465/how-to-understand-anova-f-for-feature-selection-in-python-sklearn-selectkbest-w.)"
      ],
      "metadata": {
        "id": "Yw_X3KTvBwQv"
      }
    },
    {
      "cell_type": "code",
      "source": [
        "selector = SelectKBest(f_classif, k=min(20000, x_train.shape[1]))"
      ],
      "metadata": {
        "id": "qtBdC1-7k2bY"
      },
      "execution_count": null,
      "outputs": []
    },
    {
      "cell_type": "code",
      "source": [
        "selector.fit(x_train,y_train)"
      ],
      "metadata": {
        "colab": {
          "base_uri": "https://localhost:8080/"
        },
        "id": "ihwFq5f_bekf",
        "outputId": "ecdfd786-7449-4581-c3e5-76c3f9a0b684"
      },
      "execution_count": null,
      "outputs": [
        {
          "output_type": "execute_result",
          "data": {
            "text/plain": [
              "SelectKBest(k=8518)"
            ]
          },
          "metadata": {},
          "execution_count": 26
        }
      ]
    },
    {
      "cell_type": "code",
      "source": [
        "x_train = selector.transform(x_train).astype('float32')\n",
        "x_test = selector.transform(x_test).astype('float32')"
      ],
      "metadata": {
        "id": "bAa6WDtgmQfP"
      },
      "execution_count": null,
      "outputs": []
    },
    {
      "cell_type": "code",
      "source": [
        "x_val = vectorizer.transform(X_val)\n",
        "x_val = selector.transform(x_val).astype('float32')"
      ],
      "metadata": {
        "id": "y_Xp5IeImRRk"
      },
      "execution_count": null,
      "outputs": []
    },
    {
      "cell_type": "markdown",
      "source": [
        "## Building the Model ##"
      ],
      "metadata": {
        "id": "RMw9bSJUM6nI"
      }
    },
    {
      "cell_type": "markdown",
      "source": [
        "I've cheated a little bit here. A typical data science workflow would be to choose a model as a benchmark and then try different models to see which one would give the best performance. You would then work to optimise the model further so it works better. I've short-circuited this process as I've picked a model I know would work well for this type of problem. It is a [Gradient Boosted Decision Tree](https://https://towardsdatascience.com/machine-learning-part-18-boosting-algorithms-gradient-boosting-in-python-ef5ae6965be4), although I did do some optimisations to improve its performance. The whole model training and optimisation step is a bit of a faff and takes a couple of hours so I've left this out and saved a finalised model for you to play with. The step below imports the final serialised pre-trained model."
      ],
      "metadata": {
        "id": "-SBE-R7nE7sV"
      }
    },
    {
      "cell_type": "code",
      "source": [
        "clf  = pickle.load(open('keyword_classifier/gbdt_colab.sav', 'rb'))    #import pre-trained model"
      ],
      "metadata": {
        "id": "qn6oY3N3rsBK"
      },
      "execution_count": null,
      "outputs": []
    },
    {
      "cell_type": "markdown",
      "source": [
        "## Measuring the Model Performance ##"
      ],
      "metadata": {
        "id": "BxlAo9lYNEZb"
      }
    },
    {
      "cell_type": "markdown",
      "source": [
        "We can test the performance of this model on the **validation** dataset as this is completely new data. As we can the model performs well and has a **accuracy** of around 93-94%. **Accuracy** is a measure of how correct the model is at classifying keywords i.e. here it is correct 93-94% of the time."
      ],
      "metadata": {
        "id": "3r09Sd_ZIsd9"
      }
    },
    {
      "cell_type": "code",
      "source": [
        "clf.score(x_val,y_val)"
      ],
      "metadata": {
        "id": "ryR08vW5VySc",
        "colab": {
          "base_uri": "https://localhost:8080/"
        },
        "outputId": "8cbf992f-d60b-4716-f081-c8c440f30d27"
      },
      "execution_count": null,
      "outputs": [
        {
          "output_type": "execute_result",
          "data": {
            "text/plain": [
              "0.9364988558352403"
            ]
          },
          "metadata": {},
          "execution_count": 30
        }
      ]
    },
    {
      "cell_type": "markdown",
      "source": [
        "With multi-class classification problems, **accuracy** is not always a good measure of performance (although we should be okay here as there is the same number of instances in each class). It is best practice to dig deeper and see how the model discriminates against different classes in its predictions. More info [here](https://https://en.wikipedia.org/wiki/Confusion_matrix)."
      ],
      "metadata": {
        "id": "h-matDmlJOAc"
      }
    },
    {
      "cell_type": "code",
      "source": [
        "y_val_pred = clf.predict(x_val)"
      ],
      "metadata": {
        "id": "Lc28iFxaueZT"
      },
      "execution_count": null,
      "outputs": []
    },
    {
      "cell_type": "code",
      "source": [
        "conf_matrix = confusion_matrix(y_val, y_val_pred)"
      ],
      "metadata": {
        "id": "RS1nrDhIvr0h"
      },
      "execution_count": null,
      "outputs": []
    },
    {
      "cell_type": "code",
      "source": [
        "classes = clf.classes_"
      ],
      "metadata": {
        "id": "7Na9mVyTv0cQ"
      },
      "execution_count": null,
      "outputs": []
    },
    {
      "cell_type": "code",
      "source": [
        "conf_matrix_df = pd.DataFrame(conf_matrix, index = classes, columns = classes)"
      ],
      "metadata": {
        "id": "6Kp_10qWvup6"
      },
      "execution_count": null,
      "outputs": []
    },
    {
      "cell_type": "markdown",
      "source": [
        "The confusion matrix shows the performance of the classifier for each class in the **validation** dataset. As can be seen below the classifier struggles to discriminate FONT TECHNOLOGY keywords from FONT keywords. Also, FONT and FONT TYPE keywords from FONT STYLE keywords. This could mean there is very little difference between these keywords making them hard to discriminate or they have been mislabelled by a human. I remember when I labelled this dataset by hand it was very hard to do as the keywords were very similar and it was very subjective. If this were 'real' we would need to look into these labels again and either make more prescriptive features (such as new categories) or move the decision boundary between classes."
      ],
      "metadata": {
        "id": "KYp9oS-KJvlN"
      }
    },
    {
      "cell_type": "code",
      "source": [
        "#Plotting the confusion matrix\n",
        "plt.figure(figsize=(12,12))\n",
        "sns.heatmap(conf_matrix_df, annot=True, fmt='g')\n",
        "plt.title('Confusion Matrix')\n",
        "plt.ylabel('Actal Values')\n",
        "plt.xlabel('Predicted Values')\n",
        "plt.show()"
      ],
      "metadata": {
        "colab": {
          "base_uri": "https://localhost:8080/",
          "height": 813
        },
        "id": "r9etGu30vxfW",
        "outputId": "1b2c278e-ceee-4ec5-adbc-abf3792320c1"
      },
      "execution_count": null,
      "outputs": [
        {
          "output_type": "display_data",
          "data": {
            "text/plain": [
              "<Figure size 864x864 with 2 Axes>"
            ],
            "image/png": "[encoded data removed]"
          },
          "metadata": {
            "needs_background": "light"
          }
        }
      ]
    },
    {
      "cell_type": "markdown",
      "source": [
        "There are better metrics when assessing multi-class classification problems. These are **precision**, **recall** and the **F1 score**. For more information on this see [here](https://https://towardsdatascience.com/accuracy-precision-recall-or-f1-331fb37c5cb9). The score we are most interested in there is the **F1 score** A it gives a more balanced view of the classifier's ability to discriminate classes. The **F1-score** is between 0 - 1 with 0 being bad and one being a perfect classifier. The **F1-score** on the validation dataset is **0.94** which is very good. We could try other algorithms to see if we get better performance but I'd be happy with an **F1-score* of 0.95 overall."
      ],
      "metadata": {
        "id": "l9xzsHxQLaDn"
      }
    },
    {
      "cell_type": "code",
      "source": [
        "print(metrics.classification_report(y_val, y_val_pred))"
      ],
      "metadata": {
        "colab": {
          "base_uri": "https://localhost:8080/"
        },
        "id": "kOuOwKF7v3cL",
        "outputId": "9dbdb1fc-8503-40c7-de80-98fe81f3958c"
      },
      "execution_count": null,
      "outputs": [
        {
          "output_type": "stream",
          "name": "stdout",
          "text": [
            "                     precision    recall  f1-score   support\n",
            "\n",
            "        brand emoji       1.00      1.00      1.00       338\n",
            "digital advertising       1.00      1.00      1.00       322\n",
            "              emoji       1.00      1.00      1.00       339\n",
            " flash alternatives       1.00      1.00      1.00       368\n",
            "               font       0.83      0.79      0.81       329\n",
            "         font style       0.90      0.53      0.67       325\n",
            "    font technology       0.82      0.94      0.88       346\n",
            "          font type       0.67      0.86      0.76       300\n",
            "  fonts by vertical       0.91      0.94      0.92       332\n",
            "          fonts for       0.98      0.99      0.99       335\n",
            "           fontshop       1.00      1.00      1.00       295\n",
            "              html5       1.00      1.00      1.00       325\n",
            "               misc       0.93      0.95      0.94       306\n",
            " mobile advertising       1.00      1.00      1.00       333\n",
            "           monotype       0.99      0.97      0.98       320\n",
            "      sticker packs       1.00      1.00      1.00       331\n",
            "\n",
            "           accuracy                           0.94      5244\n",
            "          macro avg       0.94      0.94      0.93      5244\n",
            "       weighted avg       0.94      0.94      0.93      5244\n",
            "\n"
          ]
        }
      ]
    },
    {
      "cell_type": "markdown",
      "source": [
        "## Try it Yourself ##"
      ],
      "metadata": {
        "id": "8ySfwTDJNNdN"
      }
    },
    {
      "cell_type": "markdown",
      "source": [
        "Run the cell below to try the model yourself. You can put a keyword into the input cell and the model will output a prediction of the class it thinks the keyword belongs to. One thing to note is that machine learning models are snapshots in time and so this classifier will work very well on the Monotype website of 2015 (see Wayback Machine link [here](https://https://web.archive.org/web/20151118070642/http://www.monotype.com)), but it won't generalise well to the Monotype website of 2022 as the data now would be completely different.\n",
        "\n",
        "To get the best out of this, look at the 2015 Monotype website and look at website section names and see if the classifier predicts something that makes sense. Examples of good queries to try are **[fonts for advertising]**, **[comic sans]**, **[memory efficient fonts]**."
      ],
      "metadata": {
        "id": "nZGCg4RNNV9w"
      }
    },
    {
      "cell_type": "code",
      "source": [
        "query = [input()]\n",
        "query_vec = vectorizer.transform(query)\n",
        "query_vec_op = selector.transform(query_vec).astype('float32')\n",
        "print()\n",
        "prediction = clf.predict(query_vec_op)[0]\n",
        "print(str.upper(prediction))"
      ],
      "metadata": {
        "colab": {
          "base_uri": "https://localhost:8080/"
        },
        "id": "4u_7lwnPwvnH",
        "outputId": "f2c0a121-7045-4f63-aa59-f4b5e865810c"
      },
      "execution_count": null,
      "outputs": [
        {
          "output_type": "stream",
          "name": "stdout",
          "text": [
            "memory efficient fonts\n",
            "\n",
            "FONT TECHNOLOGY\n"
          ]
        }
      ]
    },
    {
      "cell_type": "markdown",
      "source": [
        "## Next Steps ##"
      ],
      "metadata": {
        "id": "osdpZXJWzv1r"
      }
    },
    {
      "cell_type": "markdown",
      "source": [
        "If we were doing this for real, the next steps would be to containerize the model and deploy it to an end-point, this is where we enter the work of [ML-OPs](https://https://en.wikipedia.org/wiki/MLOps). This can be complicated as the model performance needs to be monitored to ensure the model doesn't become stale and a new model is produced periodically with updated data.\n",
        "\n",
        "A lower barrier of entry exists with [Google Cloud](https://https://cloud.google.com/) and it is possible to use their [AutoML](https://cloud.google.com/automl) and/or [Big Query ML](https://cloud.google.com/bigquery-ml/docs) products to produce models in a semi-automated way and deploy them to an endpoint. The Big Query ML product would be a good starting point.\n",
        "\n",
        "It is worth noting the model here was produced 'by hand' and with AutoML products, you won't always get the best results and you should still look for machine learning expertise even with these products. But it is a starting point."
      ],
      "metadata": {
        "id": "Z5pjZ141QGch"
      }
    },
    {
      "cell_type": "code",
      "source": [],
      "metadata": {
        "id": "s2Ft_7PXR11E"
      },
      "execution_count": null,
      "outputs": []
    }
  ]
}